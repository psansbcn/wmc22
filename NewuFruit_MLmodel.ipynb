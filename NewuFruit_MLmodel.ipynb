{
 "cells": [
  {
   "cell_type": "markdown",
   "id": "e5aa17b1",
   "metadata": {},
   "source": [
    "### Find the best prediction model"
   ]
  },
  {
   "cell_type": "markdown",
   "id": "92f6c3be",
   "metadata": {},
   "source": [
    "#### Load libraries\n",
    "The first step is to load the required libraries"
   ]
  },
  {
   "cell_type": "code",
   "execution_count": 171,
   "id": "b6a78634",
   "metadata": {},
   "outputs": [],
   "source": [
    "import pandas as pd \n",
    "import seaborn as sns\n",
    "import matplotlib.pyplot as plt\n",
    "%matplotlib inline\n",
    "\n",
    "import warnings\n",
    "warnings.simplefilter('ignore')\n",
    "\n",
    "import numpy as np"
   ]
  },
  {
   "cell_type": "markdown",
   "id": "8533c195",
   "metadata": {},
   "source": [
    "#### Load the clients database"
   ]
  },
  {
   "cell_type": "code",
   "execution_count": 172,
   "id": "6465798c",
   "metadata": {},
   "outputs": [
    {
     "data": {
      "text/html": [
       "<div>\n",
       "<style scoped>\n",
       "    .dataframe tbody tr th:only-of-type {\n",
       "        vertical-align: middle;\n",
       "    }\n",
       "\n",
       "    .dataframe tbody tr th {\n",
       "        vertical-align: top;\n",
       "    }\n",
       "\n",
       "    .dataframe thead th {\n",
       "        text-align: right;\n",
       "    }\n",
       "</style>\n",
       "<table border=\"1\" class=\"dataframe\">\n",
       "  <thead>\n",
       "    <tr style=\"text-align: right;\">\n",
       "      <th></th>\n",
       "      <th>CLIENT ID</th>\n",
       "      <th>CLIENT_SEGMENT</th>\n",
       "      <th>AVG CONSO</th>\n",
       "      <th>AVG BASKET SIZE</th>\n",
       "      <th>RECEIVED_COMMUNICATION</th>\n",
       "    </tr>\n",
       "  </thead>\n",
       "  <tbody>\n",
       "    <tr>\n",
       "      <th>0</th>\n",
       "      <td>24321771</td>\n",
       "      <td>6</td>\n",
       "      <td>67,25</td>\n",
       "      <td>201,75</td>\n",
       "      <td>0</td>\n",
       "    </tr>\n",
       "    <tr>\n",
       "      <th>1</th>\n",
       "      <td>24321859</td>\n",
       "      <td>2</td>\n",
       "      <td>58,33</td>\n",
       "      <td>350</td>\n",
       "      <td>0</td>\n",
       "    </tr>\n",
       "    <tr>\n",
       "      <th>2</th>\n",
       "      <td>24321880</td>\n",
       "      <td>3</td>\n",
       "      <td>46,67</td>\n",
       "      <td>112</td>\n",
       "      <td>0</td>\n",
       "    </tr>\n",
       "    <tr>\n",
       "      <th>3</th>\n",
       "      <td>24321957</td>\n",
       "      <td>2</td>\n",
       "      <td>50</td>\n",
       "      <td>600</td>\n",
       "      <td>0</td>\n",
       "    </tr>\n",
       "    <tr>\n",
       "      <th>4</th>\n",
       "      <td>24321962</td>\n",
       "      <td>4</td>\n",
       "      <td>10</td>\n",
       "      <td>120</td>\n",
       "      <td>0</td>\n",
       "    </tr>\n",
       "  </tbody>\n",
       "</table>\n",
       "</div>"
      ],
      "text/plain": [
       "   CLIENT ID  CLIENT_SEGMENT AVG CONSO AVG BASKET SIZE  RECEIVED_COMMUNICATION\n",
       "0   24321771               6     67,25          201,75                       0\n",
       "1   24321859               2     58,33             350                       0\n",
       "2   24321880               3     46,67             112                       0\n",
       "3   24321957               2        50             600                       0\n",
       "4   24321962               4        10             120                       0"
      ]
     },
     "execution_count": 172,
     "metadata": {},
     "output_type": "execute_result"
    }
   ],
   "source": [
    "clientsdf=pd.read_csv('mwc22-client_table.csv')\n",
    "clientsdf.head(5)"
   ]
  },
  {
   "cell_type": "code",
   "execution_count": 173,
   "id": "75aa1663",
   "metadata": {},
   "outputs": [
    {
     "data": {
      "text/plain": [
       "35884"
      ]
     },
     "execution_count": 173,
     "metadata": {},
     "output_type": "execute_result"
    }
   ],
   "source": [
    "len(clientsdf)"
   ]
  },
  {
   "cell_type": "code",
   "execution_count": 174,
   "id": "a5a3a87f",
   "metadata": {},
   "outputs": [],
   "source": [
    "columns=['CLIENT ID', 'AVG CONSO', 'AVG BASKET SIZE', 'RECEIVED_COMMUNICATION']\n",
    "target=['CLIENT_SEGMENT']"
   ]
  },
  {
   "cell_type": "code",
   "execution_count": 175,
   "id": "bf1f2d21",
   "metadata": {},
   "outputs": [],
   "source": [
    "# Change Data Type\n",
    "clientsdf['AVG CONSO']=clientsdf['AVG CONSO'].str.replace(',','.').astype(float)\n",
    "clientsdf['AVG BASKET SIZE']=clientsdf['AVG BASKET SIZE'].str.replace(',','.').astype(float)"
   ]
  },
  {
   "cell_type": "markdown",
   "id": "d830bc04",
   "metadata": {},
   "source": [
    "### Outliers\n",
    "Check the data for outliers"
   ]
  },
  {
   "cell_type": "code",
   "execution_count": 176,
   "id": "5ac618e7",
   "metadata": {},
   "outputs": [
    {
     "data": {
      "image/png": "[encoded data removed]",
      "text/plain": [
       "<Figure size 1368x50.4 with 1 Axes>"
      ]
     },
     "metadata": {
      "needs_background": "light"
     },
     "output_type": "display_data"
    }
   ],
   "source": [
    "plt.figure(figsize=(19,0.7))\n",
    "sns.boxplot(x=clientsdf[\"AVG CONSO\"], color='#336699').set_title('Average consumption', color='#444', fontsize=13)\n",
    "plt.show()"
   ]
  },
  {
   "cell_type": "code",
   "execution_count": 177,
   "id": "3e316ccd",
   "metadata": {},
   "outputs": [
    {
     "data": {
      "image/png": "[encoded data removed]",
      "text/plain": [
       "<Figure size 1368x50.4 with 1 Axes>"
      ]
     },
     "metadata": {
      "needs_background": "light"
     },
     "output_type": "display_data"
    }
   ],
   "source": [
    "plt.figure(figsize=(19,0.7))\n",
    "sns.boxplot(x=clientsdf[\"AVG BASKET SIZE\"], color='#663399').set_title('Average Basket Size', color='#444', fontsize=13)\n",
    "plt.show()"
   ]
  },
  {
   "cell_type": "markdown",
   "id": "58c5e92b",
   "metadata": {},
   "source": [
    "<br><br>To build the model, The client ID feature is not relevant therefore it cecome the index"
   ]
  },
  {
   "cell_type": "code",
   "execution_count": 178,
   "id": "99a5a079",
   "metadata": {},
   "outputs": [
    {
     "data": {
      "text/html": [
       "<div>\n",
       "<style scoped>\n",
       "    .dataframe tbody tr th:only-of-type {\n",
       "        vertical-align: middle;\n",
       "    }\n",
       "\n",
       "    .dataframe tbody tr th {\n",
       "        vertical-align: top;\n",
       "    }\n",
       "\n",
       "    .dataframe thead th {\n",
       "        text-align: right;\n",
       "    }\n",
       "</style>\n",
       "<table border=\"1\" class=\"dataframe\">\n",
       "  <thead>\n",
       "    <tr style=\"text-align: right;\">\n",
       "      <th></th>\n",
       "      <th>CLIENT_SEGMENT</th>\n",
       "      <th>AVG CONSO</th>\n",
       "      <th>AVG BASKET SIZE</th>\n",
       "      <th>RECEIVED_COMMUNICATION</th>\n",
       "    </tr>\n",
       "    <tr>\n",
       "      <th>CLIENT ID</th>\n",
       "      <th></th>\n",
       "      <th></th>\n",
       "      <th></th>\n",
       "      <th></th>\n",
       "    </tr>\n",
       "  </thead>\n",
       "  <tbody>\n",
       "    <tr>\n",
       "      <th>24321771</th>\n",
       "      <td>6</td>\n",
       "      <td>67.25</td>\n",
       "      <td>201.75</td>\n",
       "      <td>0</td>\n",
       "    </tr>\n",
       "    <tr>\n",
       "      <th>24321859</th>\n",
       "      <td>2</td>\n",
       "      <td>58.33</td>\n",
       "      <td>350.00</td>\n",
       "      <td>0</td>\n",
       "    </tr>\n",
       "    <tr>\n",
       "      <th>24321880</th>\n",
       "      <td>3</td>\n",
       "      <td>46.67</td>\n",
       "      <td>112.00</td>\n",
       "      <td>0</td>\n",
       "    </tr>\n",
       "  </tbody>\n",
       "</table>\n",
       "</div>"
      ],
      "text/plain": [
       "           CLIENT_SEGMENT  AVG CONSO  AVG BASKET SIZE  RECEIVED_COMMUNICATION\n",
       "CLIENT ID                                                                    \n",
       "24321771                6      67.25           201.75                       0\n",
       "24321859                2      58.33           350.00                       0\n",
       "24321880                3      46.67           112.00                       0"
      ]
     },
     "execution_count": 178,
     "metadata": {},
     "output_type": "execute_result"
    }
   ],
   "source": [
    "clientsdf= clientsdf.set_index('CLIENT ID')\n",
    "clientsdf.head(3)"
   ]
  },
  {
   "cell_type": "code",
   "execution_count": 179,
   "id": "19e14632",
   "metadata": {},
   "outputs": [
    {
     "data": {
      "text/plain": [
       "<AxesSubplot:>"
      ]
     },
     "execution_count": 179,
     "metadata": {},
     "output_type": "execute_result"
    },
    {
     "data": {
      "image/png": "[encoded data removed]",
      "text/plain": [
       "<Figure size 576x288 with 1 Axes>"
      ]
     },
     "metadata": {
      "needs_background": "light"
     },
     "output_type": "display_data"
    }
   ],
   "source": [
    "# check correlation to discard columns if necessary\n",
    "corr = clientsdf.corr()\n",
    "cmap = sns.light_palette(\"#0c2a70\", as_cmap=True)\n",
    "mask = np.triu(corr)\n",
    "plt.figure(figsize=(8,4))\n",
    "sns.heatmap(corr, cmap='vlag', annot=True, linewidths=0.5, center=0.3, cbar=False, xticklabels=True,mask=mask)"
   ]
  },
  {
   "cell_type": "markdown",
   "id": "9a66e3d7",
   "metadata": {},
   "source": [
    "There is some correlation between some columns, and, as there are too little features, none will be discarted"
   ]
  },
  {
   "cell_type": "code",
   "execution_count": 180,
   "id": "7b0facfd",
   "metadata": {},
   "outputs": [
    {
     "data": {
      "image/png": "[encoded data removed]",
      "text/plain": [
       "<Figure size 1368x288 with 2 Axes>"
      ]
     },
     "metadata": {
      "needs_background": "light"
     },
     "output_type": "display_data"
    }
   ],
   "source": [
    "#DISTRIBUTION PLOT\n",
    "\n",
    "fig, ax = plt.subplots(nrows=1, ncols=2,  sharex=False, sharey=False,figsize=(19,4))\n",
    "\n",
    "xx,yy='AVG CONSO',\"AVG BASKET SIZE\"\n",
    "\n",
    "ax[0].title.set_text('distribution Avg. Consumtion')\n",
    "variable = clientsdf[xx]\n",
    "breaks = np.quantile(variable, q=np.linspace(0, 1, 11))\n",
    "variable = variable[ (variable > breaks[0]) & (variable < breaks[10]) ]\n",
    "sns.distplot(variable, hist=True, kde=True, kde_kws={\"shade\": True}, ax=ax[0], color='#336699')\n",
    "des = clientsdf[xx].describe()\n",
    "ax[0].axvline(des[\"25%\"], ls='--', color='#777')\n",
    "ax[0].axvline(des[\"mean\"], ls='--', color='#444')\n",
    "ax[0].axvline(des[\"75%\"], ls='--', color='#777')\n",
    "ax[0].grid( axis='y', alpha=0.6)\n",
    "des = round(des, 2).apply(lambda xx: str(xx))\n",
    "box = '\\n'.join((\"min: \"+des[\"min\"], \"25%: \"+des[\"25%\"], \"mean: \"+des[\"mean\"], \"75%: \"+des[\"75%\"], \"max: \"+des[\"max\"]))\n",
    "ax[0].text(0.95, 0.95, box, transform=ax[0].transAxes, fontsize=13, va='top', ha=\"right\", bbox=dict(boxstyle='round', facecolor='white', alpha=1))\n",
    "\n",
    "ax[1].title.set_text('distribution Avg. Basket Size')\n",
    "variable = clientsdf[yy]\n",
    "breaks = np.quantile(variable, q=np.linspace(0, 1, 11))\n",
    "variable = variable[ (variable > breaks[0]) & (variable < breaks[10]) ]\n",
    "sns.distplot(variable, hist=True, kde=True, kde_kws={\"shade\": True}, ax=ax[1], color='#663399')\n",
    "des = clientsdf[yy].describe()\n",
    "ax[1].axvline(des[\"25%\"], ls='--', color='#777')\n",
    "ax[1].axvline(des[\"mean\"], ls='--', color='#444')\n",
    "ax[1].axvline(des[\"75%\"], ls='--', color='#777')\n",
    "ax[1].grid(axis='y', alpha=0.6)\n",
    "des = round(des, 2).apply(lambda yy: str(yy))\n",
    "box = '\\n'.join((\"min: \"+des[\"min\"], \"25%: \"+des[\"25%\"], \"mean: \"+des[\"mean\"], \"75%: \"+des[\"75%\"], \"max: \"+des[\"max\"]))\n",
    "ax[1].text(0.95, 0.95, box, transform=ax[1].transAxes, fontsize=13, va='top', ha=\"right\", bbox=dict(boxstyle='round', facecolor='white', alpha=1))\n",
    "plt.show()"
   ]
  },
  {
   "cell_type": "code",
   "execution_count": 181,
   "id": "18b6c53a",
   "metadata": {},
   "outputs": [
    {
     "data": {
      "text/plain": [
       "(3.0613305104090647, 5.067529969159413)"
      ]
     },
     "execution_count": 181,
     "metadata": {},
     "output_type": "execute_result"
    }
   ],
   "source": [
    "#Features SKEW\n",
    "clientsdf[yy].skew(),clientsdf[xx].skew()"
   ]
  },
  {
   "cell_type": "markdown",
   "id": "50ef871e",
   "metadata": {},
   "source": [
    "\n",
    "##### <br> Process columns"
   ]
  },
  {
   "cell_type": "code",
   "execution_count": 197,
   "id": "20193540",
   "metadata": {},
   "outputs": [],
   "source": [
    "# ML libraries\n",
    "import sklearn\n",
    "from sklearn.preprocessing import PowerTransformer,MinMaxScaler\n",
    "from scipy import stats\n",
    "from pickle import dump, load\n",
    "\n",
    "from sklearn.model_selection import train_test_split\n",
    "\n",
    "from sklearn import metrics\n",
    "from sklearn.metrics import confusion_matrix, ConfusionMatrixDisplay, f1_score, precision_score\n",
    "from sklearn.model_selection import GridSearchCV\n",
    "from sklearn.ensemble import RandomForestClassifier"
   ]
  },
  {
   "cell_type": "code",
   "execution_count": 183,
   "id": "620caff1",
   "metadata": {},
   "outputs": [
    {
     "name": "stdout",
     "output_type": "stream",
     "text": [
      "AVG CONSO: box-cox lambda: 0.22249169058516302 yeo-johnson lambda: 0.19215668575507638\n",
      "AVG BASKET SIZE: box-cox lambda: 0.2048747812925481 yeo-johnson lambda: 0.1971934739643877\n"
     ]
    }
   ],
   "source": [
    "#As the features are very skewed, a Powertransformer will be applied, the method with the lowest lamda\n",
    "\n",
    "fitted_data, fitted_lambda = stats.boxcox(clientsdf[xx])\n",
    "fitted_data1, fitted_lambda1 = stats.yeojohnson(clientsdf[xx])\n",
    "fitted_data2, fitted_lambda2 = stats.boxcox(clientsdf[yy])\n",
    "fitted_data3, fitted_lambda3 = stats.yeojohnson(clientsdf[yy])\n",
    "\n",
    "print('AVG CONSO: box-cox lambda:',fitted_lambda,'yeo-johnson lambda:',fitted_lambda1)\n",
    "print('AVG BASKET SIZE: box-cox lambda:',fitted_lambda2,'yeo-johnson lambda:',fitted_lambda3)"
   ]
  },
  {
   "cell_type": "code",
   "execution_count": 184,
   "id": "f3822641",
   "metadata": {},
   "outputs": [
    {
     "data": {
      "text/plain": [
       "<AxesSubplot:ylabel='Density'>"
      ]
     },
     "execution_count": 184,
     "metadata": {},
     "output_type": "execute_result"
    },
    {
     "data": {
      "image/png": "[encoded data removed]",
      "text/plain": [
       "<Figure size 432x288 with 1 Axes>"
      ]
     },
     "metadata": {
      "needs_background": "light"
     },
     "output_type": "display_data"
    }
   ],
   "source": [
    "sns.distplot(fitted_data1)"
   ]
  },
  {
   "cell_type": "code",
   "execution_count": 185,
   "id": "16fab3c8",
   "metadata": {},
   "outputs": [],
   "source": [
    "powercols=['AVG CONSO',\"AVG BASKET SIZE\"]"
   ]
  },
  {
   "cell_type": "code",
   "execution_count": 186,
   "id": "6e0d5f38",
   "metadata": {},
   "outputs": [],
   "source": [
    "#apply Power Transform and save model\n",
    "pt = PowerTransformer(method='yeo-johnson')\n",
    "\n",
    "pt.fit(clientsdf[powercols])\n",
    "clientsdf[powercols]=pt.transform(clientsdf[powercols])\n",
    "\n",
    "dump(pt, open('pt.pkl', 'wb'))"
   ]
  },
  {
   "cell_type": "code",
   "execution_count": 187,
   "id": "b33d716d",
   "metadata": {},
   "outputs": [],
   "source": [
    "# apply MinMaxScaler and save model\n",
    "scaler = MinMaxScaler()\n",
    "scaler.fit(clientsdf[powercols])\n",
    "clientsdf[powercols]=scaler.transform(clientsdf[powercols])\n",
    "\n",
    "dump(scaler, open('scaler.pkl', 'wb'))"
   ]
  },
  {
   "cell_type": "code",
   "execution_count": 188,
   "id": "0143fb46",
   "metadata": {},
   "outputs": [
    {
     "data": {
      "text/html": [
       "<div>\n",
       "<style scoped>\n",
       "    .dataframe tbody tr th:only-of-type {\n",
       "        vertical-align: middle;\n",
       "    }\n",
       "\n",
       "    .dataframe tbody tr th {\n",
       "        vertical-align: top;\n",
       "    }\n",
       "\n",
       "    .dataframe thead th {\n",
       "        text-align: right;\n",
       "    }\n",
       "</style>\n",
       "<table border=\"1\" class=\"dataframe\">\n",
       "  <thead>\n",
       "    <tr style=\"text-align: right;\">\n",
       "      <th></th>\n",
       "      <th>CLIENT_SEGMENT</th>\n",
       "      <th>AVG CONSO</th>\n",
       "      <th>AVG BASKET SIZE</th>\n",
       "      <th>RECEIVED_COMMUNICATION</th>\n",
       "    </tr>\n",
       "    <tr>\n",
       "      <th>CLIENT ID</th>\n",
       "      <th></th>\n",
       "      <th></th>\n",
       "      <th></th>\n",
       "      <th></th>\n",
       "    </tr>\n",
       "  </thead>\n",
       "  <tbody>\n",
       "    <tr>\n",
       "      <th>24321771</th>\n",
       "      <td>6</td>\n",
       "      <td>0.336661</td>\n",
       "      <td>0.370136</td>\n",
       "      <td>0</td>\n",
       "    </tr>\n",
       "    <tr>\n",
       "      <th>24321859</th>\n",
       "      <td>2</td>\n",
       "      <td>0.318821</td>\n",
       "      <td>0.466923</td>\n",
       "      <td>0</td>\n",
       "    </tr>\n",
       "    <tr>\n",
       "      <th>24321880</th>\n",
       "      <td>3</td>\n",
       "      <td>0.291894</td>\n",
       "      <td>0.277934</td>\n",
       "      <td>0</td>\n",
       "    </tr>\n",
       "    <tr>\n",
       "      <th>24321957</th>\n",
       "      <td>2</td>\n",
       "      <td>0.300083</td>\n",
       "      <td>0.572494</td>\n",
       "      <td>0</td>\n",
       "    </tr>\n",
       "    <tr>\n",
       "      <th>24321962</th>\n",
       "      <td>4</td>\n",
       "      <td>0.137915</td>\n",
       "      <td>0.288182</td>\n",
       "      <td>0</td>\n",
       "    </tr>\n",
       "  </tbody>\n",
       "</table>\n",
       "</div>"
      ],
      "text/plain": [
       "           CLIENT_SEGMENT  AVG CONSO  AVG BASKET SIZE  RECEIVED_COMMUNICATION\n",
       "CLIENT ID                                                                    \n",
       "24321771                6   0.336661         0.370136                       0\n",
       "24321859                2   0.318821         0.466923                       0\n",
       "24321880                3   0.291894         0.277934                       0\n",
       "24321957                2   0.300083         0.572494                       0\n",
       "24321962                4   0.137915         0.288182                       0"
      ]
     },
     "execution_count": 188,
     "metadata": {},
     "output_type": "execute_result"
    }
   ],
   "source": [
    "clientsdf.to_csv('new_clients.csv')\n",
    "clientsdf.head(5)"
   ]
  },
  {
   "cell_type": "markdown",
   "id": "b596a843",
   "metadata": {},
   "source": [
    "At this moment, the table is ready to apply a classification model to predict the <b>clients segments</b><br><br><br>"
   ]
  },
  {
   "cell_type": "markdown",
   "id": "bed0f2c8",
   "metadata": {},
   "source": [
    "### Classification models\n",
    "Will try 2: RandomForestClassifier and LGBMClassifier"
   ]
  },
  {
   "cell_type": "code",
   "execution_count": 189,
   "id": "51299af9",
   "metadata": {},
   "outputs": [],
   "source": [
    "#divide columns between featrures and target\n",
    "\n",
    "features=['AVG CONSO',\"AVG BASKET SIZE\",'RECEIVED_COMMUNICATION']\n",
    "clientsdf = clientsdf.sample(frac =.3)\n",
    "X = clientsdf[features].values\n",
    "y = clientsdf['CLIENT_SEGMENT'].values"
   ]
  },
  {
   "cell_type": "code",
   "execution_count": 190,
   "id": "732ac98d",
   "metadata": {},
   "outputs": [
    {
     "data": {
      "text/plain": [
       "10765"
      ]
     },
     "execution_count": 190,
     "metadata": {},
     "output_type": "execute_result"
    }
   ],
   "source": [
    "len(clientsdf)"
   ]
  },
  {
   "cell_type": "code",
   "execution_count": 191,
   "id": "862e29ca",
   "metadata": {},
   "outputs": [
    {
     "name": "stdout",
     "output_type": "stream",
     "text": [
      "(8612, 3)\n",
      "(2153, 3)\n"
     ]
    }
   ],
   "source": [
    "#split the database into train and test sets, in this case, stratification seems needed\n",
    "X_train, X_test, y_train, y_test = train_test_split(X, y, test_size=0.2, random_state=42, stratify=y)\n",
    "print(X_train.shape); print(X_test.shape)"
   ]
  },
  {
   "cell_type": "markdown",
   "id": "65115705",
   "metadata": {},
   "source": [
    "##### Random Forest"
   ]
  },
  {
   "cell_type": "code",
   "execution_count": 192,
   "id": "462daa4b",
   "metadata": {},
   "outputs": [],
   "source": [
    "# Random Forest Hiperparameters tunning with Grid Search\n",
    "\n",
    "rfc = RandomForestClassifier(random_state=42, n_jobs=-1)\n",
    "\n",
    "#Parameters:\n",
    "fit_params={\n",
    "    'n_estimators': [100, 500, 700], 'max_depth':[4,8],\n",
    "    'max_features': ['auto', 'sqrt', 'log2'], 'criterion':['gini','entropy'], \n",
    "}\n",
    "\n",
    "#'min_samples_leaf': [1, 2],'min_samples_split': [2, 5],"
   ]
  },
  {
   "cell_type": "code",
   "execution_count": 193,
   "id": "97b3fd1a",
   "metadata": {},
   "outputs": [],
   "source": [
    "grid = GridSearchCV(estimator=rfc, param_grid=fit_params, cv= 5)"
   ]
  },
  {
   "cell_type": "code",
   "execution_count": 36,
   "id": "4936b421",
   "metadata": {},
   "outputs": [
    {
     "data": {
      "text/plain": [
       "GridSearchCV(cv=5, estimator=RandomForestClassifier(n_jobs=-1, random_state=42),\n",
       "             param_grid={'criterion': ['gini', 'entropy'], 'max_depth': [4, 8],\n",
       "                         'max_features': ['auto', 'sqrt', 'log2'],\n",
       "                         'n_estimators': [100, 500, 700]})"
      ]
     },
     "execution_count": 36,
     "metadata": {},
     "output_type": "execute_result"
    }
   ],
   "source": [
    "grid.fit(X_train, y_train)"
   ]
  },
  {
   "cell_type": "code",
   "execution_count": 37,
   "id": "f1bde4f1",
   "metadata": {},
   "outputs": [
    {
     "name": "stdout",
     "output_type": "stream",
     "text": [
      "{'criterion': 'entropy', 'max_depth': 8, 'max_features': 'auto', 'n_estimators': 700}\n"
     ]
    }
   ],
   "source": [
    "print (grid.best_params_)"
   ]
  },
  {
   "cell_type": "markdown",
   "id": "4ea83664",
   "metadata": {},
   "source": [
    "Having the hyperparameters stablished, start building the model"
   ]
  },
  {
   "cell_type": "code",
   "execution_count": 165,
   "id": "d76623ae",
   "metadata": {},
   "outputs": [],
   "source": [
    "rfc1=RandomForestClassifier(n_estimators=700, random_state=42, n_jobs=-1,\n",
    "                            criterion= 'entropy', max_depth= 8,max_features= 'auto')\n",
    "\n",
    "rfc1.fit(X_train,y_train)\n",
    "\n",
    "y_pred=rfc1.predict(X_test)"
   ]
  },
  {
   "cell_type": "markdown",
   "id": "e856211a",
   "metadata": {},
   "source": [
    "#### Build a confusion Matrix and calculate some metrics to evaluate the model"
   ]
  },
  {
   "cell_type": "code",
   "execution_count": 166,
   "id": "0ef5147a",
   "metadata": {},
   "outputs": [
    {
     "data": {
      "image/png": "[encoded data removed]",
      "text/plain": [
       "<Figure size 432x288 with 2 Axes>"
      ]
     },
     "metadata": {
      "needs_background": "light"
     },
     "output_type": "display_data"
    }
   ],
   "source": [
    "cm = confusion_matrix(y_test, y_pred)\n",
    "cmd = ConfusionMatrixDisplay(cm, display_labels=['1', '2','3','4','5','6']).plot(cmap='YlGnBu')\n"
   ]
  },
  {
   "cell_type": "code",
   "execution_count": 167,
   "id": "1e698fc0",
   "metadata": {},
   "outputs": [
    {
     "name": "stdout",
     "output_type": "stream",
     "text": [
      "Accuracy: 0.782\n",
      "F1 Score: 0.699\n",
      "Precision Score: 0.754\n"
     ]
    }
   ],
   "source": [
    "print('Accuracy: %.3f' % rfc1.score(X_test, y_test))\n",
    "print('F1 Score: %.3f' % f1_score(y_test, y_pred, average='macro'))\n",
    "print('Precision Score: %.3f' % precision_score(y_test, y_pred, average='macro'))"
   ]
  },
  {
   "cell_type": "markdown",
   "id": "fb216737",
   "metadata": {},
   "source": [
    "### LGBMClassifier"
   ]
  },
  {
   "cell_type": "code",
   "execution_count": 211,
   "id": "37bb7230",
   "metadata": {},
   "outputs": [],
   "source": [
    "import lightgbm as lgb\n",
    "from sklearn.metrics import accuracy_score"
   ]
  },
  {
   "cell_type": "markdown",
   "id": "617e99fd",
   "metadata": {},
   "source": [
    "GridSearch"
   ]
  },
  {
   "cell_type": "code",
   "execution_count": 53,
   "id": "4b9108f3",
   "metadata": {},
   "outputs": [],
   "source": [
    "#Define the parameters\n",
    "parameters = {'num_leaves':[20,40], 'min_child_samples':[5,10],'max_depth':[-1,1,5],\n",
    "             'learning_rate':[0.1,0.2],'reg_alpha':[0,0.1]}"
   ]
  },
  {
   "cell_type": "code",
   "execution_count": null,
   "id": "097f12b9",
   "metadata": {},
   "outputs": [],
   "source": [
    "#Parameters for a better F1 scoring\n",
    "lgb=lgb.LGBMClassifier()\n",
    "grid=GridSearchCV(lgb,parameters,scoring='f1')\n",
    "grid.fit(X=X_train, y=y_train)\n",
    "print(grid.best_params_)"
   ]
  },
  {
   "cell_type": "markdown",
   "id": "74964972",
   "metadata": {},
   "source": [
    "from GoogleColab for F1 score -->\n",
    "{'learning_rate': 0.1, 'max_depth': -1, 'min_child_samples': 5, 'num_leaves': 20, 'reg_alpha': 0}"
   ]
  },
  {
   "cell_type": "code",
   "execution_count": 54,
   "id": "6440e829",
   "metadata": {},
   "outputs": [
    {
     "name": "stdout",
     "output_type": "stream",
     "text": [
      "{'learning_rate': 0.1, 'max_depth': 5, 'min_child_samples': 5, 'num_leaves': 40, 'reg_alpha': 0.1}\n"
     ]
    }
   ],
   "source": [
    "#Parameters for a better Accuracy\n",
    "lgb=lgb.LGBMClassifier()\n",
    "grid=GridSearchCV(lgb,parameters, cv=5,)\n",
    "grid.fit(X=X_train, y=y_train)\n",
    "print(grid.best_params_)"
   ]
  },
  {
   "cell_type": "code",
   "execution_count": 212,
   "id": "db44715a",
   "metadata": {},
   "outputs": [],
   "source": [
    "opt_parameters = {'min_child_samples': 5,\n",
    "                  'num_leaves': 80,\n",
    "                  'learning_rate': 0.1,\n",
    "                  'max_depth': -1,\n",
    "                  'reg_alpha': 0.1}\n",
    "\n",
    "model = lgb.LGBMClassifier(**opt_parameters)\n",
    "model.fit(X_train, y_train)\n",
    "\n",
    "expected_y  = y_test\n",
    "y_pred = model.predict(X_test)"
   ]
  },
  {
   "cell_type": "code",
   "execution_count": 169,
   "id": "6006766c",
   "metadata": {},
   "outputs": [
    {
     "data": {
      "image/png": "[encoded data removed]",
      "text/plain": [
       "<Figure size 432x288 with 2 Axes>"
      ]
     },
     "metadata": {
      "needs_background": "light"
     },
     "output_type": "display_data"
    }
   ],
   "source": [
    "cm = confusion_matrix(y_test, y_pred)\n",
    "cmd = ConfusionMatrixDisplay(cm, display_labels=['1', '2','3','4','5','6']).plot(cmap='YlGnBu')"
   ]
  },
  {
   "cell_type": "code",
   "execution_count": 170,
   "id": "9a0b7edb",
   "metadata": {},
   "outputs": [
    {
     "name": "stdout",
     "output_type": "stream",
     "text": [
      "Accuracy: 0.765\n",
      "F1 Score: 0.692\n",
      "Precision Score: 0.698\n"
     ]
    }
   ],
   "source": [
    "print('Accuracy: %.3f' % model.score(X_test, y_test))\n",
    "print('F1 Score: %.3f' % f1_score(y_test, y_pred, average='macro'))\n",
    "print('Precision Score: %.3f' % precision_score(y_test, y_pred, average='macro'))"
   ]
  },
  {
   "cell_type": "code",
   "execution_count": 194,
   "id": "1d2a0996",
   "metadata": {},
   "outputs": [
    {
     "data": {
      "text/html": [
       "<div>\n",
       "<style scoped>\n",
       "    .dataframe tbody tr th:only-of-type {\n",
       "        vertical-align: middle;\n",
       "    }\n",
       "\n",
       "    .dataframe tbody tr th {\n",
       "        vertical-align: top;\n",
       "    }\n",
       "\n",
       "    .dataframe thead th {\n",
       "        text-align: right;\n",
       "    }\n",
       "</style>\n",
       "<table border=\"1\" class=\"dataframe\">\n",
       "  <thead>\n",
       "    <tr style=\"text-align: right;\">\n",
       "      <th></th>\n",
       "      <th>CLIENT ID</th>\n",
       "      <th>AVG CONSO</th>\n",
       "      <th>AVG BASKET SIZE</th>\n",
       "      <th>RECEIVED_COMMUNICATION</th>\n",
       "    </tr>\n",
       "  </thead>\n",
       "  <tbody>\n",
       "    <tr>\n",
       "      <th>0</th>\n",
       "      <td>48352078</td>\n",
       "      <td>8,33</td>\n",
       "      <td>100</td>\n",
       "      <td>0</td>\n",
       "    </tr>\n",
       "    <tr>\n",
       "      <th>1</th>\n",
       "      <td>18072186</td>\n",
       "      <td>93,42</td>\n",
       "      <td>186,83</td>\n",
       "      <td>1</td>\n",
       "    </tr>\n",
       "    <tr>\n",
       "      <th>2</th>\n",
       "      <td>48352246</td>\n",
       "      <td>45,83</td>\n",
       "      <td>137,5</td>\n",
       "      <td>0</td>\n",
       "    </tr>\n",
       "    <tr>\n",
       "      <th>3</th>\n",
       "      <td>18070621</td>\n",
       "      <td>16,67</td>\n",
       "      <td>200</td>\n",
       "      <td>1</td>\n",
       "    </tr>\n",
       "    <tr>\n",
       "      <th>4</th>\n",
       "      <td>48352262</td>\n",
       "      <td>13,33</td>\n",
       "      <td>160</td>\n",
       "      <td>0</td>\n",
       "    </tr>\n",
       "  </tbody>\n",
       "</table>\n",
       "</div>"
      ],
      "text/plain": [
       "   CLIENT ID AVG CONSO AVG BASKET SIZE  RECEIVED_COMMUNICATION\n",
       "0   48352078      8,33             100                       0\n",
       "1   18072186     93,42          186,83                       1\n",
       "2   48352246     45,83           137,5                       0\n",
       "3   18070621     16,67             200                       1\n",
       "4   48352262     13,33             160                       0"
      ]
     },
     "execution_count": 194,
     "metadata": {},
     "output_type": "execute_result"
    }
   ],
   "source": [
    "preddf=pd.read_csv('mwc22-client_table_test_x.csv')\n",
    "preddf.head(5)"
   ]
  },
  {
   "cell_type": "code",
   "execution_count": 201,
   "id": "8737082b",
   "metadata": {},
   "outputs": [],
   "source": [
    "# Change Data Type\n",
    "preddf['AVG CONSO']=preddf['AVG CONSO'].str.replace(',','.').astype(float)\n",
    "preddf['AVG BASKET SIZE']=preddf['AVG BASKET SIZE'].str.replace(',','.').astype(float)"
   ]
  },
  {
   "cell_type": "code",
   "execution_count": 198,
   "id": "8054b522",
   "metadata": {},
   "outputs": [],
   "source": [
    "# load the model\n",
    "ptmodel = load(open('pt.pkl', 'rb'))\n",
    "# load the scaler\n",
    "scaler = load(open('scaler.pkl', 'rb'))"
   ]
  },
  {
   "cell_type": "code",
   "execution_count": 206,
   "id": "9eca4e7c",
   "metadata": {},
   "outputs": [],
   "source": [
    "#apply Power Transform \n",
    "ptmodel.fit(preddf[powercols])\n",
    "preddf[powercols]=ptmodel.transform(preddf[powercols])\n"
   ]
  },
  {
   "cell_type": "code",
   "execution_count": 208,
   "id": "336c961a",
   "metadata": {},
   "outputs": [],
   "source": [
    "# apply MinMaxScaler \n",
    "scaler.fit(preddf[powercols])\n",
    "preddf[powercols]=scaler.transform(preddf[powercols])"
   ]
  },
  {
   "cell_type": "code",
   "execution_count": 215,
   "id": "e45e33a2",
   "metadata": {},
   "outputs": [
    {
     "data": {
      "text/html": [
       "<div>\n",
       "<style scoped>\n",
       "    .dataframe tbody tr th:only-of-type {\n",
       "        vertical-align: middle;\n",
       "    }\n",
       "\n",
       "    .dataframe tbody tr th {\n",
       "        vertical-align: top;\n",
       "    }\n",
       "\n",
       "    .dataframe thead th {\n",
       "        text-align: right;\n",
       "    }\n",
       "</style>\n",
       "<table border=\"1\" class=\"dataframe\">\n",
       "  <thead>\n",
       "    <tr style=\"text-align: right;\">\n",
       "      <th></th>\n",
       "      <th>AVG CONSO</th>\n",
       "      <th>AVG BASKET SIZE</th>\n",
       "      <th>RECEIVED_COMMUNICATION</th>\n",
       "    </tr>\n",
       "    <tr>\n",
       "      <th>CLIENT ID</th>\n",
       "      <th></th>\n",
       "      <th></th>\n",
       "      <th></th>\n",
       "    </tr>\n",
       "  </thead>\n",
       "  <tbody>\n",
       "    <tr>\n",
       "      <th>48352078</th>\n",
       "      <td>0.025268</td>\n",
       "      <td>0.293372</td>\n",
       "      <td>0</td>\n",
       "    </tr>\n",
       "    <tr>\n",
       "      <th>18072186</th>\n",
       "      <td>0.706128</td>\n",
       "      <td>0.576791</td>\n",
       "      <td>1</td>\n",
       "    </tr>\n",
       "    <tr>\n",
       "      <th>48352246</th>\n",
       "      <td>0.488643</td>\n",
       "      <td>0.431258</td>\n",
       "      <td>0</td>\n",
       "    </tr>\n",
       "  </tbody>\n",
       "</table>\n",
       "</div>"
      ],
      "text/plain": [
       "           AVG CONSO  AVG BASKET SIZE  RECEIVED_COMMUNICATION\n",
       "CLIENT ID                                                    \n",
       "48352078    0.025268         0.293372                       0\n",
       "18072186    0.706128         0.576791                       1\n",
       "48352246    0.488643         0.431258                       0"
      ]
     },
     "execution_count": 215,
     "metadata": {},
     "output_type": "execute_result"
    }
   ],
   "source": [
    "preddf= preddf.set_index('CLIENT ID')\n",
    "preddf.head(3)"
   ]
  },
  {
   "cell_type": "code",
   "execution_count": 231,
   "id": "6252269d",
   "metadata": {},
   "outputs": [],
   "source": [
    "# make a prediction\n",
    "ynew = model.predict(preddf)"
   ]
  },
  {
   "cell_type": "code",
   "execution_count": 232,
   "id": "6e8cc231",
   "metadata": {},
   "outputs": [
    {
     "data": {
      "text/html": [
       "<div>\n",
       "<style scoped>\n",
       "    .dataframe tbody tr th:only-of-type {\n",
       "        vertical-align: middle;\n",
       "    }\n",
       "\n",
       "    .dataframe tbody tr th {\n",
       "        vertical-align: top;\n",
       "    }\n",
       "\n",
       "    .dataframe thead th {\n",
       "        text-align: right;\n",
       "    }\n",
       "</style>\n",
       "<table border=\"1\" class=\"dataframe\">\n",
       "  <thead>\n",
       "    <tr style=\"text-align: right;\">\n",
       "      <th></th>\n",
       "      <th>CLIENT ID</th>\n",
       "      <th>CLIENT_SEGMENT</th>\n",
       "    </tr>\n",
       "  </thead>\n",
       "  <tbody>\n",
       "    <tr>\n",
       "      <th>0</th>\n",
       "      <td>48352078</td>\n",
       "      <td>5</td>\n",
       "    </tr>\n",
       "    <tr>\n",
       "      <th>1</th>\n",
       "      <td>18072186</td>\n",
       "      <td>6</td>\n",
       "    </tr>\n",
       "    <tr>\n",
       "      <th>2</th>\n",
       "      <td>48352246</td>\n",
       "      <td>1</td>\n",
       "    </tr>\n",
       "    <tr>\n",
       "      <th>3</th>\n",
       "      <td>18070621</td>\n",
       "      <td>3</td>\n",
       "    </tr>\n",
       "    <tr>\n",
       "      <th>4</th>\n",
       "      <td>48352262</td>\n",
       "      <td>4</td>\n",
       "    </tr>\n",
       "    <tr>\n",
       "      <th>5</th>\n",
       "      <td>48359553</td>\n",
       "      <td>3</td>\n",
       "    </tr>\n",
       "    <tr>\n",
       "      <th>6</th>\n",
       "      <td>18071647</td>\n",
       "      <td>4</td>\n",
       "    </tr>\n",
       "    <tr>\n",
       "      <th>7</th>\n",
       "      <td>48359574</td>\n",
       "      <td>6</td>\n",
       "    </tr>\n",
       "    <tr>\n",
       "      <th>8</th>\n",
       "      <td>48359627</td>\n",
       "      <td>2</td>\n",
       "    </tr>\n",
       "    <tr>\n",
       "      <th>9</th>\n",
       "      <td>18070505</td>\n",
       "      <td>1</td>\n",
       "    </tr>\n",
       "    <tr>\n",
       "      <th>10</th>\n",
       "      <td>18071016</td>\n",
       "      <td>1</td>\n",
       "    </tr>\n",
       "    <tr>\n",
       "      <th>11</th>\n",
       "      <td>18071198</td>\n",
       "      <td>1</td>\n",
       "    </tr>\n",
       "    <tr>\n",
       "      <th>12</th>\n",
       "      <td>18071233</td>\n",
       "      <td>1</td>\n",
       "    </tr>\n",
       "    <tr>\n",
       "      <th>13</th>\n",
       "      <td>18071524</td>\n",
       "      <td>5</td>\n",
       "    </tr>\n",
       "    <tr>\n",
       "      <th>14</th>\n",
       "      <td>18071668</td>\n",
       "      <td>1</td>\n",
       "    </tr>\n",
       "    <tr>\n",
       "      <th>15</th>\n",
       "      <td>18072476</td>\n",
       "      <td>2</td>\n",
       "    </tr>\n",
       "    <tr>\n",
       "      <th>16</th>\n",
       "      <td>48352272</td>\n",
       "      <td>6</td>\n",
       "    </tr>\n",
       "    <tr>\n",
       "      <th>17</th>\n",
       "      <td>18072741</td>\n",
       "      <td>1</td>\n",
       "    </tr>\n",
       "    <tr>\n",
       "      <th>18</th>\n",
       "      <td>18072797</td>\n",
       "      <td>6</td>\n",
       "    </tr>\n",
       "  </tbody>\n",
       "</table>\n",
       "</div>"
      ],
      "text/plain": [
       "    CLIENT ID  CLIENT_SEGMENT\n",
       "0    48352078               5\n",
       "1    18072186               6\n",
       "2    48352246               1\n",
       "3    18070621               3\n",
       "4    48352262               4\n",
       "5    48359553               3\n",
       "6    18071647               4\n",
       "7    48359574               6\n",
       "8    48359627               2\n",
       "9    18070505               1\n",
       "10   18071016               1\n",
       "11   18071198               1\n",
       "12   18071233               1\n",
       "13   18071524               5\n",
       "14   18071668               1\n",
       "15   18072476               2\n",
       "16   48352272               6\n",
       "17   18072741               1\n",
       "18   18072797               6"
      ]
     },
     "execution_count": 232,
     "metadata": {},
     "output_type": "execute_result"
    }
   ],
   "source": [
    "\n",
    "predicciones = pd.DataFrame(data=ynew)\n",
    "\n",
    "predicciones['CLIENT ID']=preddf.index\n",
    "predicciones.rename(columns={0:'CLIENT_SEGMENT'}, inplace=True)\n",
    "predicciones=predicciones[['CLIENT ID','CLIENT_SEGMENT']]\n",
    "predicciones"
   ]
  },
  {
   "cell_type": "code",
   "execution_count": 233,
   "id": "5dbf5b86",
   "metadata": {},
   "outputs": [],
   "source": [
    "predicciones.to_csv('results.csv')"
   ]
  },
  {
   "cell_type": "code",
   "execution_count": 94,
   "id": "26f0122a",
   "metadata": {},
   "outputs": [
    {
     "data": {
      "text/html": [
       "<div>\n",
       "<style scoped>\n",
       "    .dataframe tbody tr th:only-of-type {\n",
       "        vertical-align: middle;\n",
       "    }\n",
       "\n",
       "    .dataframe tbody tr th {\n",
       "        vertical-align: top;\n",
       "    }\n",
       "\n",
       "    .dataframe thead th {\n",
       "        text-align: right;\n",
       "    }\n",
       "</style>\n",
       "<table border=\"1\" class=\"dataframe\">\n",
       "  <thead>\n",
       "    <tr style=\"text-align: right;\">\n",
       "      <th></th>\n",
       "      <th>Unnamed: 0</th>\n",
       "      <th>Accuracy</th>\n",
       "      <th>Balanced Accuracy</th>\n",
       "      <th>ROC AUC</th>\n",
       "      <th>F1 Score</th>\n",
       "      <th>Time Taken</th>\n",
       "    </tr>\n",
       "  </thead>\n",
       "  <tbody>\n",
       "    <tr>\n",
       "      <th>0</th>\n",
       "      <td>LGBMClassifier</td>\n",
       "      <td>0.785416</td>\n",
       "      <td>0.717505</td>\n",
       "      <td>NaN</td>\n",
       "      <td>0.756585</td>\n",
       "      <td>0.828751</td>\n",
       "    </tr>\n",
       "    <tr>\n",
       "      <th>1</th>\n",
       "      <td>XGBClassifier</td>\n",
       "      <td>0.780307</td>\n",
       "      <td>0.713609</td>\n",
       "      <td>NaN</td>\n",
       "      <td>0.755152</td>\n",
       "      <td>1.712106</td>\n",
       "    </tr>\n",
       "    <tr>\n",
       "      <th>2</th>\n",
       "      <td>LabelPropagation</td>\n",
       "      <td>0.782164</td>\n",
       "      <td>0.712735</td>\n",
       "      <td>NaN</td>\n",
       "      <td>0.752627</td>\n",
       "      <td>2.997852</td>\n",
       "    </tr>\n",
       "    <tr>\n",
       "      <th>3</th>\n",
       "      <td>LabelSpreading</td>\n",
       "      <td>0.780307</td>\n",
       "      <td>0.710219</td>\n",
       "      <td>NaN</td>\n",
       "      <td>0.750317</td>\n",
       "      <td>4.724608</td>\n",
       "    </tr>\n",
       "    <tr>\n",
       "      <th>4</th>\n",
       "      <td>ExtraTreesClassifier</td>\n",
       "      <td>0.764050</td>\n",
       "      <td>0.702207</td>\n",
       "      <td>NaN</td>\n",
       "      <td>0.746722</td>\n",
       "      <td>0.547082</td>\n",
       "    </tr>\n",
       "    <tr>\n",
       "      <th>5</th>\n",
       "      <td>RandomForestClassifier</td>\n",
       "      <td>0.764979</td>\n",
       "      <td>0.702444</td>\n",
       "      <td>NaN</td>\n",
       "      <td>0.745473</td>\n",
       "      <td>0.764464</td>\n",
       "    </tr>\n",
       "    <tr>\n",
       "      <th>6</th>\n",
       "      <td>BaggingClassifier</td>\n",
       "      <td>0.764515</td>\n",
       "      <td>0.701589</td>\n",
       "      <td>NaN</td>\n",
       "      <td>0.744382</td>\n",
       "      <td>0.152931</td>\n",
       "    </tr>\n",
       "    <tr>\n",
       "      <th>7</th>\n",
       "      <td>KNeighborsClassifier</td>\n",
       "      <td>0.768230</td>\n",
       "      <td>0.703416</td>\n",
       "      <td>NaN</td>\n",
       "      <td>0.744100</td>\n",
       "      <td>0.099735</td>\n",
       "    </tr>\n",
       "    <tr>\n",
       "      <th>8</th>\n",
       "      <td>QuadraticDiscriminantAnalysis</td>\n",
       "      <td>0.765908</td>\n",
       "      <td>0.697262</td>\n",
       "      <td>NaN</td>\n",
       "      <td>0.742108</td>\n",
       "      <td>0.023423</td>\n",
       "    </tr>\n",
       "    <tr>\n",
       "      <th>9</th>\n",
       "      <td>SVC</td>\n",
       "      <td>0.773340</td>\n",
       "      <td>0.703510</td>\n",
       "      <td>NaN</td>\n",
       "      <td>0.742060</td>\n",
       "      <td>1.508657</td>\n",
       "    </tr>\n",
       "    <tr>\n",
       "      <th>10</th>\n",
       "      <td>ExtraTreeClassifier</td>\n",
       "      <td>0.749652</td>\n",
       "      <td>0.690627</td>\n",
       "      <td>NaN</td>\n",
       "      <td>0.735136</td>\n",
       "      <td>0.021651</td>\n",
       "    </tr>\n",
       "    <tr>\n",
       "      <th>11</th>\n",
       "      <td>DecisionTreeClassifier</td>\n",
       "      <td>0.750581</td>\n",
       "      <td>0.688117</td>\n",
       "      <td>NaN</td>\n",
       "      <td>0.734194</td>\n",
       "      <td>0.032209</td>\n",
       "    </tr>\n",
       "    <tr>\n",
       "      <th>12</th>\n",
       "      <td>GaussianNB</td>\n",
       "      <td>0.744078</td>\n",
       "      <td>0.683423</td>\n",
       "      <td>NaN</td>\n",
       "      <td>0.726574</td>\n",
       "      <td>0.024174</td>\n",
       "    </tr>\n",
       "    <tr>\n",
       "      <th>13</th>\n",
       "      <td>NuSVC</td>\n",
       "      <td>0.752903</td>\n",
       "      <td>0.680789</td>\n",
       "      <td>NaN</td>\n",
       "      <td>0.726037</td>\n",
       "      <td>4.431530</td>\n",
       "    </tr>\n",
       "    <tr>\n",
       "      <th>14</th>\n",
       "      <td>LogisticRegression</td>\n",
       "      <td>0.745936</td>\n",
       "      <td>0.672021</td>\n",
       "      <td>NaN</td>\n",
       "      <td>0.712042</td>\n",
       "      <td>0.253279</td>\n",
       "    </tr>\n",
       "    <tr>\n",
       "      <th>15</th>\n",
       "      <td>LinearDiscriminantAnalysis</td>\n",
       "      <td>0.732931</td>\n",
       "      <td>0.659790</td>\n",
       "      <td>NaN</td>\n",
       "      <td>0.700963</td>\n",
       "      <td>0.041930</td>\n",
       "    </tr>\n",
       "    <tr>\n",
       "      <th>16</th>\n",
       "      <td>CalibratedClassifierCV</td>\n",
       "      <td>0.715745</td>\n",
       "      <td>0.646070</td>\n",
       "      <td>NaN</td>\n",
       "      <td>0.679517</td>\n",
       "      <td>5.476807</td>\n",
       "    </tr>\n",
       "    <tr>\n",
       "      <th>17</th>\n",
       "      <td>LinearSVC</td>\n",
       "      <td>0.683233</td>\n",
       "      <td>0.630382</td>\n",
       "      <td>NaN</td>\n",
       "      <td>0.625435</td>\n",
       "      <td>1.432127</td>\n",
       "    </tr>\n",
       "    <tr>\n",
       "      <th>18</th>\n",
       "      <td>SGDClassifier</td>\n",
       "      <td>0.653971</td>\n",
       "      <td>0.623148</td>\n",
       "      <td>NaN</td>\n",
       "      <td>0.614619</td>\n",
       "      <td>0.122619</td>\n",
       "    </tr>\n",
       "    <tr>\n",
       "      <th>19</th>\n",
       "      <td>NearestCentroid</td>\n",
       "      <td>0.603809</td>\n",
       "      <td>0.578401</td>\n",
       "      <td>NaN</td>\n",
       "      <td>0.611038</td>\n",
       "      <td>0.025351</td>\n",
       "    </tr>\n",
       "    <tr>\n",
       "      <th>20</th>\n",
       "      <td>AdaBoostClassifier</td>\n",
       "      <td>0.521133</td>\n",
       "      <td>0.419609</td>\n",
       "      <td>NaN</td>\n",
       "      <td>0.440467</td>\n",
       "      <td>0.400652</td>\n",
       "    </tr>\n",
       "    <tr>\n",
       "      <th>21</th>\n",
       "      <td>PassiveAggressiveClassifier</td>\n",
       "      <td>0.450999</td>\n",
       "      <td>0.399293</td>\n",
       "      <td>NaN</td>\n",
       "      <td>0.432017</td>\n",
       "      <td>0.049648</td>\n",
       "    </tr>\n",
       "    <tr>\n",
       "      <th>22</th>\n",
       "      <td>RidgeClassifier</td>\n",
       "      <td>0.538319</td>\n",
       "      <td>0.457327</td>\n",
       "      <td>NaN</td>\n",
       "      <td>0.420177</td>\n",
       "      <td>0.028637</td>\n",
       "    </tr>\n",
       "    <tr>\n",
       "      <th>23</th>\n",
       "      <td>RidgeClassifierCV</td>\n",
       "      <td>0.538319</td>\n",
       "      <td>0.457327</td>\n",
       "      <td>NaN</td>\n",
       "      <td>0.420177</td>\n",
       "      <td>0.026409</td>\n",
       "    </tr>\n",
       "    <tr>\n",
       "      <th>24</th>\n",
       "      <td>Perceptron</td>\n",
       "      <td>0.436136</td>\n",
       "      <td>0.444307</td>\n",
       "      <td>NaN</td>\n",
       "      <td>0.418643</td>\n",
       "      <td>0.047012</td>\n",
       "    </tr>\n",
       "    <tr>\n",
       "      <th>25</th>\n",
       "      <td>BernoulliNB</td>\n",
       "      <td>0.479796</td>\n",
       "      <td>0.396355</td>\n",
       "      <td>NaN</td>\n",
       "      <td>0.404418</td>\n",
       "      <td>0.025350</td>\n",
       "    </tr>\n",
       "    <tr>\n",
       "      <th>26</th>\n",
       "      <td>DummyClassifier</td>\n",
       "      <td>0.175105</td>\n",
       "      <td>0.158914</td>\n",
       "      <td>NaN</td>\n",
       "      <td>0.175770</td>\n",
       "      <td>0.018990</td>\n",
       "    </tr>\n",
       "  </tbody>\n",
       "</table>\n",
       "</div>"
      ],
      "text/plain": [
       "                       Unnamed: 0  Accuracy  Balanced Accuracy  ROC AUC  \\\n",
       "0                  LGBMClassifier  0.785416           0.717505      NaN   \n",
       "1                   XGBClassifier  0.780307           0.713609      NaN   \n",
       "2                LabelPropagation  0.782164           0.712735      NaN   \n",
       "3                  LabelSpreading  0.780307           0.710219      NaN   \n",
       "4            ExtraTreesClassifier  0.764050           0.702207      NaN   \n",
       "5          RandomForestClassifier  0.764979           0.702444      NaN   \n",
       "6               BaggingClassifier  0.764515           0.701589      NaN   \n",
       "7            KNeighborsClassifier  0.768230           0.703416      NaN   \n",
       "8   QuadraticDiscriminantAnalysis  0.765908           0.697262      NaN   \n",
       "9                             SVC  0.773340           0.703510      NaN   \n",
       "10            ExtraTreeClassifier  0.749652           0.690627      NaN   \n",
       "11         DecisionTreeClassifier  0.750581           0.688117      NaN   \n",
       "12                     GaussianNB  0.744078           0.683423      NaN   \n",
       "13                          NuSVC  0.752903           0.680789      NaN   \n",
       "14             LogisticRegression  0.745936           0.672021      NaN   \n",
       "15     LinearDiscriminantAnalysis  0.732931           0.659790      NaN   \n",
       "16         CalibratedClassifierCV  0.715745           0.646070      NaN   \n",
       "17                      LinearSVC  0.683233           0.630382      NaN   \n",
       "18                  SGDClassifier  0.653971           0.623148      NaN   \n",
       "19                NearestCentroid  0.603809           0.578401      NaN   \n",
       "20             AdaBoostClassifier  0.521133           0.419609      NaN   \n",
       "21    PassiveAggressiveClassifier  0.450999           0.399293      NaN   \n",
       "22                RidgeClassifier  0.538319           0.457327      NaN   \n",
       "23              RidgeClassifierCV  0.538319           0.457327      NaN   \n",
       "24                     Perceptron  0.436136           0.444307      NaN   \n",
       "25                    BernoulliNB  0.479796           0.396355      NaN   \n",
       "26                DummyClassifier  0.175105           0.158914      NaN   \n",
       "\n",
       "    F1 Score  Time Taken  \n",
       "0   0.756585    0.828751  \n",
       "1   0.755152    1.712106  \n",
       "2   0.752627    2.997852  \n",
       "3   0.750317    4.724608  \n",
       "4   0.746722    0.547082  \n",
       "5   0.745473    0.764464  \n",
       "6   0.744382    0.152931  \n",
       "7   0.744100    0.099735  \n",
       "8   0.742108    0.023423  \n",
       "9   0.742060    1.508657  \n",
       "10  0.735136    0.021651  \n",
       "11  0.734194    0.032209  \n",
       "12  0.726574    0.024174  \n",
       "13  0.726037    4.431530  \n",
       "14  0.712042    0.253279  \n",
       "15  0.700963    0.041930  \n",
       "16  0.679517    5.476807  \n",
       "17  0.625435    1.432127  \n",
       "18  0.614619    0.122619  \n",
       "19  0.611038    0.025351  \n",
       "20  0.440467    0.400652  \n",
       "21  0.432017    0.049648  \n",
       "22  0.420177    0.028637  \n",
       "23  0.420177    0.026409  \n",
       "24  0.418643    0.047012  \n",
       "25  0.404418    0.025350  \n",
       "26  0.175770    0.018990  "
      ]
     },
     "execution_count": 94,
     "metadata": {},
     "output_type": "execute_result"
    }
   ],
   "source": [
    "#load LazyClassifier Results\n",
    "lazy=pd.read_csv('wmc22_lazy.csv')\n",
    "lazy"
   ]
  },
  {
   "cell_type": "code",
   "execution_count": null,
   "id": "6e0099df",
   "metadata": {},
   "outputs": [],
   "source": []
  }
 ],
 "metadata": {
  "kernelspec": {
   "display_name": "Python 3 (ipykernel)",
   "language": "python",
   "name": "python3"
  },
  "language_info": {
   "codemirror_mode": {
    "name": "ipython",
    "version": 3
   },
   "file_extension": ".py",
   "mimetype": "text/x-python",
   "name": "python",
   "nbconvert_exporter": "python",
   "pygments_lexer": "ipython3",
   "version": "3.8.2"
  }
 },
 "nbformat": 4,
 "nbformat_minor": 5
}
