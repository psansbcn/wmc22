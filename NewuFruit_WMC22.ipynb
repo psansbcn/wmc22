{
 "cells": [
  {
   "cell_type": "markdown",
   "id": "96ef463c",
   "metadata": {},
   "source": [
    "# NewuFruit WMC22"
   ]
  },
  {
   "cell_type": "markdown",
   "id": "af5faedb",
   "metadata": {},
   "source": [
    "#### Load libraries\n",
    "The first step is to load the required libraries"
   ]
  },
  {
   "cell_type": "code",
   "execution_count": 2,
   "id": "4714dfc0",
   "metadata": {},
   "outputs": [],
   "source": [
    "import pandas as pd \n",
    "import seaborn as sns\n",
    "import matplotlib.pyplot as plt\n",
    "%matplotlib inline\n",
    "\n",
    "import warnings\n",
    "warnings.simplefilter('ignore')\n",
    "\n",
    "import numpy as np"
   ]
  },
  {
   "cell_type": "markdown",
   "id": "20b6c934",
   "metadata": {},
   "source": [
    "#### Load the clients database\n",
    "\n",
    "###### It contains these variables:\n",
    "<b>CLIENT ID:</b> Unique client identifier<br>\n",
    "<b>CLIENT_SEGMENT:</b> Client segment<br>\n",
    "<b>AVG CONSO:</b> Monthly average consumption (in fruit pieces) at the end of 2020<br>\n",
    "<b>AVG BASKET SIZE:</b> Average basket size (in fruit pieces) at the end of 2020<br>\n",
    "<b>RECEIVED_COMMUNICATION:</b> 1 = Promotion communication received / 0 = not received\n"
   ]
  },
  {
   "cell_type": "code",
   "execution_count": 30,
   "id": "2684508f",
   "metadata": {},
   "outputs": [
    {
     "data": {
      "text/html": [
       "<div>\n",
       "<style scoped>\n",
       "    .dataframe tbody tr th:only-of-type {\n",
       "        vertical-align: middle;\n",
       "    }\n",
       "\n",
       "    .dataframe tbody tr th {\n",
       "        vertical-align: top;\n",
       "    }\n",
       "\n",
       "    .dataframe thead th {\n",
       "        text-align: right;\n",
       "    }\n",
       "</style>\n",
       "<table border=\"1\" class=\"dataframe\">\n",
       "  <thead>\n",
       "    <tr style=\"text-align: right;\">\n",
       "      <th></th>\n",
       "      <th>CLIENT ID</th>\n",
       "      <th>CLIENT_SEGMENT</th>\n",
       "      <th>AVG CONSO</th>\n",
       "      <th>AVG BASKET SIZE</th>\n",
       "      <th>RECEIVED_COMMUNICATION</th>\n",
       "    </tr>\n",
       "  </thead>\n",
       "  <tbody>\n",
       "    <tr>\n",
       "      <th>35879</th>\n",
       "      <td>48345531</td>\n",
       "      <td>4</td>\n",
       "      <td>12,5</td>\n",
       "      <td>150</td>\n",
       "      <td>1</td>\n",
       "    </tr>\n",
       "    <tr>\n",
       "      <th>35880</th>\n",
       "      <td>48345686</td>\n",
       "      <td>3</td>\n",
       "      <td>37,5</td>\n",
       "      <td>112,5</td>\n",
       "      <td>1</td>\n",
       "    </tr>\n",
       "    <tr>\n",
       "      <th>35881</th>\n",
       "      <td>48365750</td>\n",
       "      <td>3</td>\n",
       "      <td>41,67</td>\n",
       "      <td>125</td>\n",
       "      <td>1</td>\n",
       "    </tr>\n",
       "    <tr>\n",
       "      <th>35882</th>\n",
       "      <td>48365861</td>\n",
       "      <td>3</td>\n",
       "      <td>62,58</td>\n",
       "      <td>125,17</td>\n",
       "      <td>1</td>\n",
       "    </tr>\n",
       "    <tr>\n",
       "      <th>35883</th>\n",
       "      <td>48365940</td>\n",
       "      <td>1</td>\n",
       "      <td>89,17</td>\n",
       "      <td>152,86</td>\n",
       "      <td>1</td>\n",
       "    </tr>\n",
       "  </tbody>\n",
       "</table>\n",
       "</div>"
      ],
      "text/plain": [
       "       CLIENT ID  CLIENT_SEGMENT AVG CONSO AVG BASKET SIZE  \\\n",
       "35879   48345531               4      12,5             150   \n",
       "35880   48345686               3      37,5           112,5   \n",
       "35881   48365750               3     41,67             125   \n",
       "35882   48365861               3     62,58          125,17   \n",
       "35883   48365940               1     89,17          152,86   \n",
       "\n",
       "       RECEIVED_COMMUNICATION  \n",
       "35879                       1  \n",
       "35880                       1  \n",
       "35881                       1  \n",
       "35882                       1  \n",
       "35883                       1  "
      ]
     },
     "execution_count": 30,
     "metadata": {},
     "output_type": "execute_result"
    }
   ],
   "source": [
    "clientsdf=pd.read_csv('mwc22-client_table.csv')\n",
    "clientsdf.tail(5)"
   ]
  },
  {
   "cell_type": "code",
   "execution_count": null,
   "id": "75a2466f",
   "metadata": {},
   "outputs": [],
   "source": []
  },
  {
   "cell_type": "code",
   "execution_count": 3,
   "id": "43bd8856",
   "metadata": {},
   "outputs": [
    {
     "data": {
      "text/plain": [
       "CLIENT ID                 0\n",
       "CLIENT_SEGMENT            0\n",
       "AVG CONSO                 0\n",
       "AVG BASKET SIZE           0\n",
       "RECEIVED_COMMUNICATION    0\n",
       "dtype: int64"
      ]
     },
     "execution_count": 3,
     "metadata": {},
     "output_type": "execute_result"
    }
   ],
   "source": [
    "clientsdf.isnull().sum()"
   ]
  },
  {
   "cell_type": "markdown",
   "id": "5ec7d172",
   "metadata": {},
   "source": [
    "There are no null values"
   ]
  },
  {
   "cell_type": "code",
   "execution_count": 4,
   "id": "5d46f388",
   "metadata": {},
   "outputs": [
    {
     "data": {
      "text/plain": [
       "CLIENT ID                  int64\n",
       "CLIENT_SEGMENT             int64\n",
       "AVG CONSO                 object\n",
       "AVG BASKET SIZE           object\n",
       "RECEIVED_COMMUNICATION     int64\n",
       "dtype: object"
      ]
     },
     "execution_count": 4,
     "metadata": {},
     "output_type": "execute_result"
    }
   ],
   "source": [
    "clientsdf.dtypes"
   ]
  },
  {
   "cell_type": "code",
   "execution_count": 5,
   "id": "28a06b2b",
   "metadata": {},
   "outputs": [],
   "source": [
    "# Change Data Type\n",
    "clientsdf['AVG CONSO']=clientsdf['AVG CONSO'].str.replace(',','.').astype(float)\n",
    "clientsdf['AVG BASKET SIZE']=clientsdf['AVG BASKET SIZE'].str.replace(',','.').astype(float)"
   ]
  },
  {
   "cell_type": "markdown",
   "id": "befdc2e9",
   "metadata": {},
   "source": [
    "##### Number of clents per segments"
   ]
  },
  {
   "cell_type": "code",
   "execution_count": 6,
   "id": "6e58bd28",
   "metadata": {
    "scrolled": true
   },
   "outputs": [
    {
     "data": {
      "text/html": [
       "<div>\n",
       "<style scoped>\n",
       "    .dataframe tbody tr th:only-of-type {\n",
       "        vertical-align: middle;\n",
       "    }\n",
       "\n",
       "    .dataframe tbody tr th {\n",
       "        vertical-align: top;\n",
       "    }\n",
       "\n",
       "    .dataframe thead th {\n",
       "        text-align: right;\n",
       "    }\n",
       "</style>\n",
       "<table border=\"1\" class=\"dataframe\">\n",
       "  <thead>\n",
       "    <tr style=\"text-align: right;\">\n",
       "      <th></th>\n",
       "      <th>segments</th>\n",
       "      <th>total_clients</th>\n",
       "    </tr>\n",
       "  </thead>\n",
       "  <tbody>\n",
       "    <tr>\n",
       "      <th>3</th>\n",
       "      <td>segment 1</td>\n",
       "      <td>6505</td>\n",
       "    </tr>\n",
       "    <tr>\n",
       "      <th>2</th>\n",
       "      <td>segment 2</td>\n",
       "      <td>6760</td>\n",
       "    </tr>\n",
       "    <tr>\n",
       "      <th>0</th>\n",
       "      <td>segment 3</td>\n",
       "      <td>8123</td>\n",
       "    </tr>\n",
       "    <tr>\n",
       "      <th>1</th>\n",
       "      <td>segment 4</td>\n",
       "      <td>7927</td>\n",
       "    </tr>\n",
       "    <tr>\n",
       "      <th>4</th>\n",
       "      <td>segment 5</td>\n",
       "      <td>3429</td>\n",
       "    </tr>\n",
       "    <tr>\n",
       "      <th>5</th>\n",
       "      <td>segment 6</td>\n",
       "      <td>3140</td>\n",
       "    </tr>\n",
       "  </tbody>\n",
       "</table>\n",
       "</div>"
      ],
      "text/plain": [
       "    segments  total_clients\n",
       "3  segment 1           6505\n",
       "2  segment 2           6760\n",
       "0  segment 3           8123\n",
       "1  segment 4           7927\n",
       "4  segment 5           3429\n",
       "5  segment 6           3140"
      ]
     },
     "execution_count": 6,
     "metadata": {},
     "output_type": "execute_result"
    }
   ],
   "source": [
    "dfseg=clientsdf['CLIENT_SEGMENT'].value_counts().reset_index()\n",
    "dfseg['index']='segment ' + dfseg['index'].astype(str)\n",
    "dfseg.columns=['segments','total_clients']\n",
    "dfseg.sort_values(by=['segments'])"
   ]
  },
  {
   "cell_type": "code",
   "execution_count": 7,
   "id": "145cb214",
   "metadata": {},
   "outputs": [],
   "source": [
    "# Colour palettes\n",
    "clr7=['#668866','#c65555','#2398a6','#b9296f','#d387d2','#a271cf','#9ebff1']\n",
    "clr6=['#668866','#c65555','#2398a6','#b9296f','#d387d2','#a271cf']"
   ]
  },
  {
   "cell_type": "code",
   "execution_count": 8,
   "id": "b7a29b80",
   "metadata": {},
   "outputs": [
    {
     "data": {
      "image/png": "[encoded data removed]",
      "text/plain": [
       "<Figure size 576x576 with 1 Axes>"
      ]
     },
     "metadata": {},
     "output_type": "display_data"
    }
   ],
   "source": [
    "plt.figure(figsize=(8,8))\n",
    "plt.pie(dfseg['total_clients'],labels= list(dfseg['segments']), autopct='%.1f%%',colors = clr6,\n",
    "        startangle=90,pctdistance = 0.7 ,textprops={'fontsize': 14},\n",
    "       wedgeprops = { 'linewidth' : 0.5, 'edgecolor' : 'white' })\n",
    "\n",
    "my_circle=plt.Circle( (0,0), 0.4, color='white')\n",
    "p=plt.gcf()\n",
    "p.gca().add_artist(my_circle)\n",
    "plt.title('Client segments', fontsize=18)\n",
    "\n",
    "plt.show()"
   ]
  },
  {
   "cell_type": "code",
   "execution_count": 9,
   "id": "4ce90518",
   "metadata": {},
   "outputs": [
    {
     "name": "stdout",
     "output_type": "stream",
     "text": [
      "Average Monthly consumtion: 64.53 pieces\n",
      "Average Basket size: 181.22 pieces\n"
     ]
    }
   ],
   "source": [
    "print('Average Monthly consumtion:',round(clientsdf['AVG CONSO'].mean(),2),'pieces')\n",
    "print('Average Basket size:',round(clientsdf['AVG BASKET SIZE'].mean(),2),'pieces')"
   ]
  },
  {
   "cell_type": "markdown",
   "id": "eb540ca8",
   "metadata": {},
   "source": [
    "##### Received communications"
   ]
  },
  {
   "cell_type": "code",
   "execution_count": 10,
   "id": "de9f04fa",
   "metadata": {},
   "outputs": [
    {
     "name": "stdout",
     "output_type": "stream",
     "text": [
      "18229 of clients received the communication a 50.8 %\n",
      "17655 of clients didn't receive the communication a 49.2 %\n"
     ]
    }
   ],
   "source": [
    "dfcomm=clientsdf['RECEIVED_COMMUNICATION'].value_counts().reset_index()\n",
    "a1,a2=dfcomm['RECEIVED_COMMUNICATION'][0],dfcomm['RECEIVED_COMMUNICATION'][1]\n",
    "\n",
    "print(a1,'of clients received the communication', 'a', round(a1/(a1+a2)*100,2),'%')\n",
    "print(a2,'of clients didn\\'t receive the communication', 'a', round(a2/(a1+a2)*100,2),'%')"
   ]
  },
  {
   "cell_type": "markdown",
   "id": "3b936c11",
   "metadata": {},
   "source": [
    "<br>\n",
    "After checking the general reach of the communications, the next step is to review the communications per segments"
   ]
  },
  {
   "cell_type": "code",
   "execution_count": 11,
   "id": "cddae7a7",
   "metadata": {},
   "outputs": [],
   "source": [
    "fdc1=clientsdf[clientsdf['CLIENT_SEGMENT']==1]['RECEIVED_COMMUNICATION'].value_counts().reset_index()\n",
    "fdc1.columns=['Received_communication','total']\n",
    "fdc1.sort_values(by=['Received_communication'], ascending=False,inplace=True)\n",
    "\n",
    "fdc2=clientsdf[clientsdf['CLIENT_SEGMENT']==2]['RECEIVED_COMMUNICATION'].value_counts().reset_index()\n",
    "fdc2.columns=['Received_communication','total']\n",
    "fdc2.sort_values(by=['Received_communication'], ascending=False,inplace=True)\n",
    "\n",
    "fdc3=clientsdf[clientsdf['CLIENT_SEGMENT']==3]['RECEIVED_COMMUNICATION'].value_counts().reset_index()\n",
    "fdc3.columns=['Received_communication','total']\n",
    "fdc3.sort_values(by=['Received_communication'], ascending=False,inplace=True)\n",
    "\n",
    "fdc4=clientsdf[clientsdf['CLIENT_SEGMENT']==4]['RECEIVED_COMMUNICATION'].value_counts().reset_index()\n",
    "fdc4.columns=['Received_communication','total']\n",
    "fdc4.sort_values(by=['Received_communication'], ascending=False,inplace=True)\n",
    "\n",
    "fdc5=clientsdf[clientsdf['CLIENT_SEGMENT']==5]['RECEIVED_COMMUNICATION'].value_counts().reset_index()\n",
    "fdc5.columns=['Received_communication','total']\n",
    "fdc5.sort_values(by=['Received_communication'], ascending=False,inplace=True)\n",
    "\n",
    "fdc6=clientsdf[clientsdf['CLIENT_SEGMENT']==6]['RECEIVED_COMMUNICATION'].value_counts().reset_index()\n",
    "fdc6.columns=['Received_communication','total']\n",
    "fdc6.sort_values(by=['Received_communication'], ascending=False,inplace=True)\n"
   ]
  },
  {
   "cell_type": "code",
   "execution_count": 12,
   "id": "23fc26cf",
   "metadata": {},
   "outputs": [
    {
     "data": {
      "image/png": "[encoded data removed]",
      "text/plain": [
       "<Figure size 1368x288 with 3 Axes>"
      ]
     },
     "metadata": {},
     "output_type": "display_data"
    },
    {
     "data": {
      "image/png": "[encoded data removed]",
      "text/plain": [
       "<Figure size 1368x288 with 3 Axes>"
      ]
     },
     "metadata": {},
     "output_type": "display_data"
    }
   ],
   "source": [
    "labels=['received','not received']\n",
    "\n",
    "fig, ax = plt.subplots(1,3,figsize=(19,4))\n",
    "\n",
    "ax[0].pie(fdc1['total'],labels=labels, autopct='%.1f%%',colors = ['#668866','#ccc'],\n",
    "        pctdistance = 0.5 ,textprops={'fontsize': 14},startangle=270)\n",
    "ax[0].set_title('Segment 1',fontsize= 18)\n",
    "\n",
    "ax[1].pie(fdc2['total'],labels=labels, autopct='%.1f%%',colors = [clr7[1],'#ccc'],\n",
    "        pctdistance = 0.5 ,textprops={'fontsize': 14},startangle=270)\n",
    "ax[1].set_title('Segment 2',fontsize= 18)\n",
    "\n",
    "ax[2].pie(fdc3['total'],labels=labels, autopct='%.1f%%',colors = [clr7[2],'#ccc'],\n",
    "        pctdistance = 0.5 ,textprops={'fontsize': 14},startangle=270)\n",
    "ax[2].set_title('Segment 3',fontsize= 18)\n",
    "\n",
    "fig.suptitle(\" \\n Communications received by segment\", y=1.28,fontsize= 21)\n",
    "\n",
    "fig, ax = plt.subplots(1,3,figsize=(19,4))\n",
    "\n",
    "ax[0].pie(fdc4['total'],labels=labels, autopct='%.1f%%',colors = [clr7[3],'#ccc'],\n",
    "        pctdistance = 0.5 ,textprops={'fontsize': 14},startangle=270)\n",
    "ax[0].set_title('Segment 4',fontsize= 18)\n",
    "\n",
    "ax[1].pie(fdc5['total'],labels=labels, autopct='%.1f%%',colors = [clr7[4],'#ccc'],\n",
    "        pctdistance = 0.5 ,textprops={'fontsize': 14},startangle=270)\n",
    "ax[1].set_title('Segment 5',fontsize= 18)\n",
    "\n",
    "ax[2].pie(fdc6['total'],labels=labels, autopct='%.1f%%',colors = [clr7[6],'#ccc'],\n",
    "        pctdistance = 0.5 ,textprops={'fontsize': 14},startangle=270)\n",
    "ax[2].set_title('Segment 6',fontsize= 18)\n",
    "\n",
    "\n",
    "\n",
    "plt.show()"
   ]
  },
  {
   "cell_type": "markdown",
   "id": "e64c811d",
   "metadata": {},
   "source": [
    "##### <br>Average consumption and Basket size per segment"
   ]
  },
  {
   "cell_type": "code",
   "execution_count": 13,
   "id": "56e2d407",
   "metadata": {},
   "outputs": [
    {
     "data": {
      "text/html": [
       "<div>\n",
       "<style scoped>\n",
       "    .dataframe tbody tr th:only-of-type {\n",
       "        vertical-align: middle;\n",
       "    }\n",
       "\n",
       "    .dataframe tbody tr th {\n",
       "        vertical-align: top;\n",
       "    }\n",
       "\n",
       "    .dataframe thead th {\n",
       "        text-align: right;\n",
       "    }\n",
       "</style>\n",
       "<table border=\"1\" class=\"dataframe\">\n",
       "  <thead>\n",
       "    <tr style=\"text-align: right;\">\n",
       "      <th></th>\n",
       "      <th>CLIENT_SEGMENT</th>\n",
       "      <th>AVG CONSO</th>\n",
       "      <th>AVG BASKET SIZE</th>\n",
       "    </tr>\n",
       "  </thead>\n",
       "  <tbody>\n",
       "    <tr>\n",
       "      <th>0</th>\n",
       "      <td>1</td>\n",
       "      <td>132.278692</td>\n",
       "      <td>190.336475</td>\n",
       "    </tr>\n",
       "    <tr>\n",
       "      <th>1</th>\n",
       "      <td>2</td>\n",
       "      <td>87.360251</td>\n",
       "      <td>298.595682</td>\n",
       "    </tr>\n",
       "    <tr>\n",
       "      <th>2</th>\n",
       "      <td>3</td>\n",
       "      <td>43.331350</td>\n",
       "      <td>163.602114</td>\n",
       "    </tr>\n",
       "    <tr>\n",
       "      <th>3</th>\n",
       "      <td>4</td>\n",
       "      <td>20.868018</td>\n",
       "      <td>105.475273</td>\n",
       "    </tr>\n",
       "    <tr>\n",
       "      <th>4</th>\n",
       "      <td>5</td>\n",
       "      <td>6.600367</td>\n",
       "      <td>56.872805</td>\n",
       "    </tr>\n",
       "    <tr>\n",
       "      <th>5</th>\n",
       "      <td>6</td>\n",
       "      <td>103.404949</td>\n",
       "      <td>282.211369</td>\n",
       "    </tr>\n",
       "  </tbody>\n",
       "</table>\n",
       "</div>"
      ],
      "text/plain": [
       "   CLIENT_SEGMENT   AVG CONSO  AVG BASKET SIZE\n",
       "0               1  132.278692       190.336475\n",
       "1               2   87.360251       298.595682\n",
       "2               3   43.331350       163.602114\n",
       "3               4   20.868018       105.475273\n",
       "4               5    6.600367        56.872805\n",
       "5               6  103.404949       282.211369"
      ]
     },
     "execution_count": 13,
     "metadata": {},
     "output_type": "execute_result"
    }
   ],
   "source": [
    "segmentsdf=clientsdf[['CLIENT_SEGMENT','AVG CONSO','AVG BASKET SIZE']].groupby(['CLIENT_SEGMENT']).mean().reset_index()\n",
    "segmentsdf"
   ]
  },
  {
   "cell_type": "markdown",
   "id": "7714ea42",
   "metadata": {},
   "source": [
    "Looking at the averages, at a first glance, only segment 5 pups up beacuse their Average basket size is considerably smaller than the others ( this also reflects it is the segment which receives less promotions).\n",
    "Adding an extra column with the relation between consumption and basket size might show some other differences between segments"
   ]
  },
  {
   "cell_type": "code",
   "execution_count": 14,
   "id": "314a2fc3",
   "metadata": {},
   "outputs": [
    {
     "data": {
      "text/html": [
       "<div>\n",
       "<style scoped>\n",
       "    .dataframe tbody tr th:only-of-type {\n",
       "        vertical-align: middle;\n",
       "    }\n",
       "\n",
       "    .dataframe tbody tr th {\n",
       "        vertical-align: top;\n",
       "    }\n",
       "\n",
       "    .dataframe thead th {\n",
       "        text-align: right;\n",
       "    }\n",
       "</style>\n",
       "<table border=\"1\" class=\"dataframe\">\n",
       "  <thead>\n",
       "    <tr style=\"text-align: right;\">\n",
       "      <th></th>\n",
       "      <th>CLIENT_SEGMENT</th>\n",
       "      <th>AVG CONSO</th>\n",
       "      <th>AVG BASKET SIZE</th>\n",
       "      <th>REL</th>\n",
       "    </tr>\n",
       "  </thead>\n",
       "  <tbody>\n",
       "    <tr>\n",
       "      <th>0</th>\n",
       "      <td>1</td>\n",
       "      <td>132.278692</td>\n",
       "      <td>190.336475</td>\n",
       "      <td>69.50</td>\n",
       "    </tr>\n",
       "    <tr>\n",
       "      <th>1</th>\n",
       "      <td>2</td>\n",
       "      <td>87.360251</td>\n",
       "      <td>298.595682</td>\n",
       "      <td>29.26</td>\n",
       "    </tr>\n",
       "    <tr>\n",
       "      <th>2</th>\n",
       "      <td>3</td>\n",
       "      <td>43.331350</td>\n",
       "      <td>163.602114</td>\n",
       "      <td>26.49</td>\n",
       "    </tr>\n",
       "    <tr>\n",
       "      <th>3</th>\n",
       "      <td>4</td>\n",
       "      <td>20.868018</td>\n",
       "      <td>105.475273</td>\n",
       "      <td>19.78</td>\n",
       "    </tr>\n",
       "    <tr>\n",
       "      <th>4</th>\n",
       "      <td>5</td>\n",
       "      <td>6.600367</td>\n",
       "      <td>56.872805</td>\n",
       "      <td>11.61</td>\n",
       "    </tr>\n",
       "    <tr>\n",
       "      <th>5</th>\n",
       "      <td>6</td>\n",
       "      <td>103.404949</td>\n",
       "      <td>282.211369</td>\n",
       "      <td>36.64</td>\n",
       "    </tr>\n",
       "  </tbody>\n",
       "</table>\n",
       "</div>"
      ],
      "text/plain": [
       "   CLIENT_SEGMENT   AVG CONSO  AVG BASKET SIZE    REL\n",
       "0               1  132.278692       190.336475  69.50\n",
       "1               2   87.360251       298.595682  29.26\n",
       "2               3   43.331350       163.602114  26.49\n",
       "3               4   20.868018       105.475273  19.78\n",
       "4               5    6.600367        56.872805  11.61\n",
       "5               6  103.404949       282.211369  36.64"
      ]
     },
     "execution_count": 14,
     "metadata": {},
     "output_type": "execute_result"
    }
   ],
   "source": [
    "segmentsdf['REL']=round(segmentsdf['AVG CONSO']/segmentsdf['AVG BASKET SIZE']*100,2)\n",
    "segmentsdf"
   ]
  },
  {
   "cell_type": "code",
   "execution_count": 15,
   "id": "77368120",
   "metadata": {},
   "outputs": [
    {
     "data": {
      "image/png": "[encoded data removed]",
      "text/plain": [
       "<Figure size 1152x288 with 2 Axes>"
      ]
     },
     "metadata": {
      "needs_background": "light"
     },
     "output_type": "display_data"
    }
   ],
   "source": [
    "fig, ax = plt.subplots(1,2,figsize=(16,4))\n",
    "\n",
    "ax[0].bar(segmentsdf['CLIENT_SEGMENT'],segmentsdf['AVG CONSO'], color=clr6[2])\n",
    "ax[0].set_title('Average monthly consumption',fontsize= 15)\n",
    "\n",
    "ax[1].bar(segmentsdf['CLIENT_SEGMENT'],segmentsdf['AVG BASKET SIZE'], color=clr6[5])\n",
    "ax[1].set_title('Average Basket size',fontsize= 15)\n",
    "\n",
    "sns.despine(top=True, right=True, left=False, bottom=False)\n",
    "plt.show()"
   ]
  },
  {
   "cell_type": "markdown",
   "id": "1092132c",
   "metadata": {},
   "source": [
    "<br><br><br><br>"
   ]
  },
  {
   "cell_type": "markdown",
   "id": "6b891ed7",
   "metadata": {},
   "source": [
    "#### Load the orders database\n",
    "\n",
    "###### It contains these variables:\n",
    "<b>CLIENT ID:</b> Unique client identifier<br>\n",
    "<b>NB PRODS:</b> Order 'prods'number of the fruit variety (1 prod = 10 fruit pieces)<br>\n",
    "<b>ORDER ID:</b> Unique order identifier<br>\n",
    "<b>FRUIT_PRODUCT:</b> Fruit type\n"
   ]
  },
  {
   "cell_type": "code",
   "execution_count": 16,
   "id": "20abd86a",
   "metadata": {},
   "outputs": [
    {
     "data": {
      "text/html": [
       "<div>\n",
       "<style scoped>\n",
       "    .dataframe tbody tr th:only-of-type {\n",
       "        vertical-align: middle;\n",
       "    }\n",
       "\n",
       "    .dataframe tbody tr th {\n",
       "        vertical-align: top;\n",
       "    }\n",
       "\n",
       "    .dataframe thead th {\n",
       "        text-align: right;\n",
       "    }\n",
       "</style>\n",
       "<table border=\"1\" class=\"dataframe\">\n",
       "  <thead>\n",
       "    <tr style=\"text-align: right;\">\n",
       "      <th></th>\n",
       "      <th>CLIENT ID</th>\n",
       "      <th>NB PRODS</th>\n",
       "      <th>ORDER ID</th>\n",
       "      <th>FRUIT_PRODUCT</th>\n",
       "    </tr>\n",
       "  </thead>\n",
       "  <tbody>\n",
       "    <tr>\n",
       "      <th>0</th>\n",
       "      <td>18070505</td>\n",
       "      <td>5</td>\n",
       "      <td>671907264</td>\n",
       "      <td>Apple</td>\n",
       "    </tr>\n",
       "    <tr>\n",
       "      <th>1</th>\n",
       "      <td>18070505</td>\n",
       "      <td>10</td>\n",
       "      <td>671907264</td>\n",
       "      <td>Orange</td>\n",
       "    </tr>\n",
       "  </tbody>\n",
       "</table>\n",
       "</div>"
      ],
      "text/plain": [
       "   CLIENT ID  NB PRODS   ORDER ID FRUIT_PRODUCT\n",
       "0   18070505         5  671907264         Apple\n",
       "1   18070505        10  671907264        Orange"
      ]
     },
     "execution_count": 16,
     "metadata": {},
     "output_type": "execute_result"
    }
   ],
   "source": [
    "oredrssdf=pd.read_csv('mwc22-orders_table.csv')\n",
    "oredrssdf.head(2)"
   ]
  },
  {
   "cell_type": "code",
   "execution_count": 17,
   "id": "4170f58a",
   "metadata": {},
   "outputs": [
    {
     "name": "stdout",
     "output_type": "stream",
     "text": [
      "<class 'pandas.core.frame.DataFrame'>\n",
      "RangeIndex: 66912 entries, 0 to 66911\n",
      "Data columns (total 4 columns):\n",
      " #   Column         Non-Null Count  Dtype \n",
      "---  ------         --------------  ----- \n",
      " 0   CLIENT ID      66912 non-null  int64 \n",
      " 1   NB PRODS       66912 non-null  int64 \n",
      " 2   ORDER ID       66912 non-null  int64 \n",
      " 3   FRUIT_PRODUCT  66912 non-null  object\n",
      "dtypes: int64(3), object(1)\n",
      "memory usage: 2.0+ MB\n"
     ]
    }
   ],
   "source": [
    "oredrssdf.info()"
   ]
  },
  {
   "cell_type": "markdown",
   "id": "7165c9ca",
   "metadata": {},
   "source": [
    "There are no null values"
   ]
  },
  {
   "cell_type": "markdown",
   "id": "3f8c7bd8",
   "metadata": {},
   "source": [
    "#### Merging both datasets on ClientID"
   ]
  },
  {
   "cell_type": "code",
   "execution_count": 57,
   "id": "ad2cfcc7",
   "metadata": {},
   "outputs": [
    {
     "data": {
      "text/html": [
       "<div>\n",
       "<style scoped>\n",
       "    .dataframe tbody tr th:only-of-type {\n",
       "        vertical-align: middle;\n",
       "    }\n",
       "\n",
       "    .dataframe tbody tr th {\n",
       "        vertical-align: top;\n",
       "    }\n",
       "\n",
       "    .dataframe thead th {\n",
       "        text-align: right;\n",
       "    }\n",
       "</style>\n",
       "<table border=\"1\" class=\"dataframe\">\n",
       "  <thead>\n",
       "    <tr style=\"text-align: right;\">\n",
       "      <th></th>\n",
       "      <th>CLIENT ID</th>\n",
       "      <th>NB PRODS</th>\n",
       "      <th>ORDER ID</th>\n",
       "      <th>FRUIT_PRODUCT</th>\n",
       "      <th>CLIENT_SEGMENT</th>\n",
       "      <th>AVG CONSO</th>\n",
       "      <th>AVG BASKET SIZE</th>\n",
       "      <th>RECEIVED_COMMUNICATION</th>\n",
       "    </tr>\n",
       "  </thead>\n",
       "  <tbody>\n",
       "    <tr>\n",
       "      <th>0</th>\n",
       "      <td>18070505</td>\n",
       "      <td>5</td>\n",
       "      <td>671907264</td>\n",
       "      <td>Apple</td>\n",
       "      <td>NaN</td>\n",
       "      <td>NaN</td>\n",
       "      <td>NaN</td>\n",
       "      <td>NaN</td>\n",
       "    </tr>\n",
       "    <tr>\n",
       "      <th>1</th>\n",
       "      <td>18070505</td>\n",
       "      <td>10</td>\n",
       "      <td>671907264</td>\n",
       "      <td>Orange</td>\n",
       "      <td>NaN</td>\n",
       "      <td>NaN</td>\n",
       "      <td>NaN</td>\n",
       "      <td>NaN</td>\n",
       "    </tr>\n",
       "    <tr>\n",
       "      <th>2</th>\n",
       "      <td>18070505</td>\n",
       "      <td>5</td>\n",
       "      <td>671907264</td>\n",
       "      <td>Kiwi</td>\n",
       "      <td>NaN</td>\n",
       "      <td>NaN</td>\n",
       "      <td>NaN</td>\n",
       "      <td>NaN</td>\n",
       "    </tr>\n",
       "  </tbody>\n",
       "</table>\n",
       "</div>"
      ],
      "text/plain": [
       "   CLIENT ID  NB PRODS   ORDER ID FRUIT_PRODUCT  CLIENT_SEGMENT AVG CONSO  \\\n",
       "0   18070505         5  671907264         Apple             NaN       NaN   \n",
       "1   18070505        10  671907264        Orange             NaN       NaN   \n",
       "2   18070505         5  671907264          Kiwi             NaN       NaN   \n",
       "\n",
       "  AVG BASKET SIZE  RECEIVED_COMMUNICATION  \n",
       "0             NaN                     NaN  \n",
       "1             NaN                     NaN  \n",
       "2             NaN                     NaN  "
      ]
     },
     "execution_count": 57,
     "metadata": {},
     "output_type": "execute_result"
    }
   ],
   "source": [
    "maindf= pd.merge(oredrssdf,clientsdf,how='left', on='CLIENT ID', suffixes=('', '_drop'))\n",
    "maindf.drop([col for col in maindf.columns if 'drop' in col], axis=1, inplace=True)\n",
    "maindf.head(3)"
   ]
  },
  {
   "cell_type": "code",
   "execution_count": 58,
   "id": "749e525f",
   "metadata": {},
   "outputs": [
    {
     "data": {
      "text/plain": [
       "CLIENT ID                  0\n",
       "NB PRODS                   0\n",
       "ORDER ID                   0\n",
       "FRUIT_PRODUCT              0\n",
       "CLIENT_SEGMENT            40\n",
       "AVG CONSO                 40\n",
       "AVG BASKET SIZE           40\n",
       "RECEIVED_COMMUNICATION    40\n",
       "dtype: int64"
      ]
     },
     "execution_count": 58,
     "metadata": {},
     "output_type": "execute_result"
    }
   ],
   "source": [
    "maindf.isnull().sum()"
   ]
  },
  {
   "cell_type": "code",
   "execution_count": 59,
   "id": "9726d1e9",
   "metadata": {},
   "outputs": [
    {
     "data": {
      "text/plain": [
       "18071233    8\n",
       "18071668    7\n",
       "18071016    6\n",
       "18072741    6\n",
       "18072797    6\n",
       "18070505    5\n",
       "18072186    2\n",
       "Name: CLIENT ID, dtype: int64"
      ]
     },
     "execution_count": 59,
     "metadata": {},
     "output_type": "execute_result"
    }
   ],
   "source": [
    "maindf[maindf['CLIENT_SEGMENT'].isna()]['CLIENT ID'].value_counts()"
   ]
  },
  {
   "cell_type": "code",
   "execution_count": 60,
   "id": "343d74cc",
   "metadata": {},
   "outputs": [
    {
     "data": {
      "text/plain": [
       "14499"
      ]
     },
     "execution_count": 60,
     "metadata": {},
     "output_type": "execute_result"
    }
   ],
   "source": [
    "len(maindf['CLIENT ID'].unique())"
   ]
  },
  {
   "cell_type": "code",
   "execution_count": 77,
   "id": "0b77f07c",
   "metadata": {},
   "outputs": [
    {
     "data": {
      "text/html": [
       "<div>\n",
       "<style scoped>\n",
       "    .dataframe tbody tr th:only-of-type {\n",
       "        vertical-align: middle;\n",
       "    }\n",
       "\n",
       "    .dataframe tbody tr th {\n",
       "        vertical-align: top;\n",
       "    }\n",
       "\n",
       "    .dataframe thead th {\n",
       "        text-align: right;\n",
       "    }\n",
       "</style>\n",
       "<table border=\"1\" class=\"dataframe\">\n",
       "  <thead>\n",
       "    <tr style=\"text-align: right;\">\n",
       "      <th></th>\n",
       "      <th>CLIENT ID</th>\n",
       "      <th>NB PRODS</th>\n",
       "      <th>ORDER ID</th>\n",
       "      <th>FRUIT_PRODUCT</th>\n",
       "      <th>CLIENT_SEGMENT</th>\n",
       "      <th>AVG CONSO</th>\n",
       "      <th>AVG BASKET SIZE</th>\n",
       "      <th>RECEIVED_COMMUNICATION</th>\n",
       "    </tr>\n",
       "  </thead>\n",
       "  <tbody>\n",
       "    <tr>\n",
       "      <th>0</th>\n",
       "      <td>18073169</td>\n",
       "      <td>3</td>\n",
       "      <td>675518868</td>\n",
       "      <td>Kiwi</td>\n",
       "      <td>6.0</td>\n",
       "      <td>50</td>\n",
       "      <td>150</td>\n",
       "      <td>1.0</td>\n",
       "    </tr>\n",
       "    <tr>\n",
       "      <th>1</th>\n",
       "      <td>18073169</td>\n",
       "      <td>4</td>\n",
       "      <td>675518868</td>\n",
       "      <td>Lemon</td>\n",
       "      <td>6.0</td>\n",
       "      <td>50</td>\n",
       "      <td>150</td>\n",
       "      <td>1.0</td>\n",
       "    </tr>\n",
       "    <tr>\n",
       "      <th>2</th>\n",
       "      <td>18073169</td>\n",
       "      <td>7</td>\n",
       "      <td>675518868</td>\n",
       "      <td>Cheery</td>\n",
       "      <td>6.0</td>\n",
       "      <td>50</td>\n",
       "      <td>150</td>\n",
       "      <td>1.0</td>\n",
       "    </tr>\n",
       "  </tbody>\n",
       "</table>\n",
       "</div>"
      ],
      "text/plain": [
       "   CLIENT ID  NB PRODS   ORDER ID FRUIT_PRODUCT  CLIENT_SEGMENT AVG CONSO  \\\n",
       "0   18073169         3  675518868          Kiwi             6.0        50   \n",
       "1   18073169         4  675518868         Lemon             6.0        50   \n",
       "2   18073169         7  675518868        Cheery             6.0        50   \n",
       "\n",
       "  AVG BASKET SIZE  RECEIVED_COMMUNICATION  \n",
       "0             150                     1.0  \n",
       "1             150                     1.0  \n",
       "2             150                     1.0  "
      ]
     },
     "execution_count": 77,
     "metadata": {},
     "output_type": "execute_result"
    }
   ],
   "source": [
    "#As there are 7 clients IDs out of 14400 missimg from the clients db, they will be removes\n",
    "maindf=maindf.dropna().reset_index(drop=True)\n",
    "maindf.head(3)"
   ]
  },
  {
   "cell_type": "markdown",
   "id": "9a28e6f7",
   "metadata": {},
   "source": [
    "##### <br>Most ordered fruits"
   ]
  },
  {
   "cell_type": "code",
   "execution_count": 70,
   "id": "acc6f413",
   "metadata": {},
   "outputs": [
    {
     "data": {
      "text/html": [
       "<div>\n",
       "<style scoped>\n",
       "    .dataframe tbody tr th:only-of-type {\n",
       "        vertical-align: middle;\n",
       "    }\n",
       "\n",
       "    .dataframe tbody tr th {\n",
       "        vertical-align: top;\n",
       "    }\n",
       "\n",
       "    .dataframe thead th {\n",
       "        text-align: right;\n",
       "    }\n",
       "</style>\n",
       "<table border=\"1\" class=\"dataframe\">\n",
       "  <thead>\n",
       "    <tr style=\"text-align: right;\">\n",
       "      <th></th>\n",
       "      <th>FRUIT_PRODUCT</th>\n",
       "      <th>NB PRODS</th>\n",
       "    </tr>\n",
       "  </thead>\n",
       "  <tbody>\n",
       "    <tr>\n",
       "      <th>0</th>\n",
       "      <td>Kiwi</td>\n",
       "      <td>36011</td>\n",
       "    </tr>\n",
       "    <tr>\n",
       "      <th>1</th>\n",
       "      <td>Lemon</td>\n",
       "      <td>34061</td>\n",
       "    </tr>\n",
       "    <tr>\n",
       "      <th>2</th>\n",
       "      <td>Orange</td>\n",
       "      <td>33145</td>\n",
       "    </tr>\n",
       "    <tr>\n",
       "      <th>3</th>\n",
       "      <td>Cheery</td>\n",
       "      <td>26797</td>\n",
       "    </tr>\n",
       "    <tr>\n",
       "      <th>4</th>\n",
       "      <td>Pear</td>\n",
       "      <td>22776</td>\n",
       "    </tr>\n",
       "    <tr>\n",
       "      <th>5</th>\n",
       "      <td>Nuwe Fruit</td>\n",
       "      <td>19846</td>\n",
       "    </tr>\n",
       "    <tr>\n",
       "      <th>6</th>\n",
       "      <td>Nectarine</td>\n",
       "      <td>18934</td>\n",
       "    </tr>\n",
       "    <tr>\n",
       "      <th>7</th>\n",
       "      <td>Banana</td>\n",
       "      <td>17662</td>\n",
       "    </tr>\n",
       "    <tr>\n",
       "      <th>8</th>\n",
       "      <td>Coconut</td>\n",
       "      <td>11862</td>\n",
       "    </tr>\n",
       "    <tr>\n",
       "      <th>9</th>\n",
       "      <td>Apricot</td>\n",
       "      <td>9774</td>\n",
       "    </tr>\n",
       "    <tr>\n",
       "      <th>10</th>\n",
       "      <td>Papaya</td>\n",
       "      <td>8286</td>\n",
       "    </tr>\n",
       "    <tr>\n",
       "      <th>11</th>\n",
       "      <td>Apple</td>\n",
       "      <td>6637</td>\n",
       "    </tr>\n",
       "    <tr>\n",
       "      <th>12</th>\n",
       "      <td>Grape</td>\n",
       "      <td>6581</td>\n",
       "    </tr>\n",
       "    <tr>\n",
       "      <th>13</th>\n",
       "      <td>Strawberry</td>\n",
       "      <td>6269</td>\n",
       "    </tr>\n",
       "    <tr>\n",
       "      <th>14</th>\n",
       "      <td>Devil Fruit</td>\n",
       "      <td>6071</td>\n",
       "    </tr>\n",
       "    <tr>\n",
       "      <th>15</th>\n",
       "      <td>Lime</td>\n",
       "      <td>5881</td>\n",
       "    </tr>\n",
       "    <tr>\n",
       "      <th>16</th>\n",
       "      <td>Mango</td>\n",
       "      <td>5187</td>\n",
       "    </tr>\n",
       "    <tr>\n",
       "      <th>17</th>\n",
       "      <td>Pomegranate</td>\n",
       "      <td>4945</td>\n",
       "    </tr>\n",
       "    <tr>\n",
       "      <th>18</th>\n",
       "      <td>Blueberry</td>\n",
       "      <td>4523</td>\n",
       "    </tr>\n",
       "    <tr>\n",
       "      <th>19</th>\n",
       "      <td>Watermelon</td>\n",
       "      <td>4296</td>\n",
       "    </tr>\n",
       "    <tr>\n",
       "      <th>20</th>\n",
       "      <td>Pineapple</td>\n",
       "      <td>3873</td>\n",
       "    </tr>\n",
       "    <tr>\n",
       "      <th>21</th>\n",
       "      <td>Plum</td>\n",
       "      <td>3826</td>\n",
       "    </tr>\n",
       "    <tr>\n",
       "      <th>22</th>\n",
       "      <td>Melon</td>\n",
       "      <td>3403</td>\n",
       "    </tr>\n",
       "    <tr>\n",
       "      <th>23</th>\n",
       "      <td>Jackfruit</td>\n",
       "      <td>2339</td>\n",
       "    </tr>\n",
       "  </tbody>\n",
       "</table>\n",
       "</div>"
      ],
      "text/plain": [
       "   FRUIT_PRODUCT  NB PRODS\n",
       "0           Kiwi     36011\n",
       "1          Lemon     34061\n",
       "2         Orange     33145\n",
       "3         Cheery     26797\n",
       "4           Pear     22776\n",
       "5     Nuwe Fruit     19846\n",
       "6      Nectarine     18934\n",
       "7         Banana     17662\n",
       "8        Coconut     11862\n",
       "9        Apricot      9774\n",
       "10        Papaya      8286\n",
       "11         Apple      6637\n",
       "12         Grape      6581\n",
       "13    Strawberry      6269\n",
       "14   Devil Fruit      6071\n",
       "15          Lime      5881\n",
       "16         Mango      5187\n",
       "17   Pomegranate      4945\n",
       "18     Blueberry      4523\n",
       "19    Watermelon      4296\n",
       "20     Pineapple      3873\n",
       "21          Plum      3826\n",
       "22         Melon      3403\n",
       "23     Jackfruit      2339"
      ]
     },
     "execution_count": 70,
     "metadata": {},
     "output_type": "execute_result"
    }
   ],
   "source": [
    "fruitsdf=maindf.groupby(['FRUIT_PRODUCT'])['NB PRODS'].sum().sort_values(ascending=False).reset_index()\n",
    "fruitsdf"
   ]
  },
  {
   "cell_type": "code",
   "execution_count": 73,
   "id": "4439b5e3",
   "metadata": {},
   "outputs": [
    {
     "data": {
      "text/plain": [
       "23"
      ]
     },
     "execution_count": 73,
     "metadata": {},
     "output_type": "execute_result"
    }
   ],
   "source": [
    "colours=['#ec3142','#EF5260','#E95B61','#E36461','#DD6D62','#D77663','#D17F64','#CC8764','#C69065','#C09966','#BAA267','#B4AB67','#AEB468','#A5AF6F','#9CAA75','#92A57C','#89A082','#809B89','#77958F','#6E9096','#658B9C','#5B86A3','#5281A9','#497CB0','#3f6b96']\n",
    "len(colours[:23])"
   ]
  },
  {
   "cell_type": "code",
   "execution_count": 76,
   "id": "300e78a4",
   "metadata": {},
   "outputs": [
    {
     "data": {
      "text/plain": [
       "<function matplotlib.pyplot.show(close=None, block=None)>"
      ]
     },
     "execution_count": 76,
     "metadata": {},
     "output_type": "execute_result"
    },
    {
     "data": {
      "image/png": "[encoded data removed]",
      "text/plain": [
       "<Figure size 648x504 with 1 Axes>"
      ]
     },
     "metadata": {
      "needs_background": "light"
     },
     "output_type": "display_data"
    }
   ],
   "source": [
    "plt.figure(figsize=(9,7))\n",
    "sns.barplot(x=\"NB PRODS\", y=\"FRUIT_PRODUCT\", data=fruitsdf, palette=colours[:24])\n",
    "plt.grid(color='#999', linestyle='dotted', linewidth=0.7, axis='x')\n",
    "plt.grid(color='#999', linestyle='dotted', linewidth=0.2, axis='y')\n",
    "sns.despine(top=True, right=True, left=False, bottom=False)\n",
    "plt.show"
   ]
  },
  {
   "cell_type": "code",
   "execution_count": 128,
   "id": "00a8e7ee",
   "metadata": {},
   "outputs": [
    {
     "data": {
      "text/html": [
       "<div>\n",
       "<style scoped>\n",
       "    .dataframe tbody tr th:only-of-type {\n",
       "        vertical-align: middle;\n",
       "    }\n",
       "\n",
       "    .dataframe tbody tr th {\n",
       "        vertical-align: top;\n",
       "    }\n",
       "\n",
       "    .dataframe thead th {\n",
       "        text-align: right;\n",
       "    }\n",
       "</style>\n",
       "<table border=\"1\" class=\"dataframe\">\n",
       "  <thead>\n",
       "    <tr style=\"text-align: right;\">\n",
       "      <th></th>\n",
       "      <th>FRUIT_PRODUCT</th>\n",
       "      <th>NB PRODS</th>\n",
       "    </tr>\n",
       "  </thead>\n",
       "  <tbody>\n",
       "    <tr>\n",
       "      <th>0</th>\n",
       "      <td>Kiwi</td>\n",
       "      <td>13213</td>\n",
       "    </tr>\n",
       "  </tbody>\n",
       "</table>\n",
       "</div>"
      ],
      "text/plain": [
       "  FRUIT_PRODUCT  NB PRODS\n",
       "0          Kiwi     13213"
      ]
     },
     "execution_count": 128,
     "metadata": {},
     "output_type": "execute_result"
    }
   ],
   "source": [
    "frtdf1=maindf[maindf['CLIENT_SEGMENT']==1.0].groupby(['CLIENT_SEGMENT','FRUIT_PRODUCT'])['NB PRODS'].sum().sort_values(ascending=False)[:10].reset_index().drop(['CLIENT_SEGMENT'],axis=1)\n",
    "frtdf2=maindf[maindf['CLIENT_SEGMENT']==2.0].groupby(['CLIENT_SEGMENT','FRUIT_PRODUCT'])['NB PRODS'].sum().sort_values(ascending=False)[:10].reset_index().drop(['CLIENT_SEGMENT'],axis=1)\n",
    "frtdf3=maindf[maindf['CLIENT_SEGMENT']==3.0].groupby(['CLIENT_SEGMENT','FRUIT_PRODUCT'])['NB PRODS'].sum().sort_values(ascending=False)[:10].reset_index().drop(['CLIENT_SEGMENT'],axis=1)\n",
    "frtdf4=maindf[maindf['CLIENT_SEGMENT']==4.0].groupby(['CLIENT_SEGMENT','FRUIT_PRODUCT'])['NB PRODS'].sum().sort_values(ascending=False)[:10].reset_index().drop(['CLIENT_SEGMENT'],axis=1)\n",
    "frtdf5=maindf[maindf['CLIENT_SEGMENT']==5.0].groupby(['CLIENT_SEGMENT','FRUIT_PRODUCT'])['NB PRODS'].sum().sort_values(ascending=False)[:10].reset_index().drop(['CLIENT_SEGMENT'],axis=1)\n",
    "frtdf6=maindf[maindf['CLIENT_SEGMENT']==6.0].groupby(['CLIENT_SEGMENT','FRUIT_PRODUCT'])['NB PRODS'].sum().sort_values(ascending=False)[:10].reset_index().drop(['CLIENT_SEGMENT'],axis=1)\n",
    "frtdf1.head(1)"
   ]
  },
  {
   "cell_type": "code",
   "execution_count": 138,
   "id": "bdb7678d",
   "metadata": {},
   "outputs": [
    {
     "data": {
      "image/png": "[encoded data removed]",
      "text/plain": [
       "<Figure size 1512x360 with 3 Axes>"
      ]
     },
     "metadata": {
      "needs_background": "light"
     },
     "output_type": "display_data"
    },
    {
     "data": {
      "image/png": "[encoded data removed]",
      "text/plain": [
       "<Figure size 1512x360 with 3 Axes>"
      ]
     },
     "metadata": {
      "needs_background": "light"
     },
     "output_type": "display_data"
    }
   ],
   "source": [
    "fig, ax = plt.subplots(1,3,figsize=(21,5))\n",
    "\n",
    "sns.barplot(x=\"NB PRODS\", y=\"FRUIT_PRODUCT\", data=frtdf1,ax=ax[0], color=clr7[0])\n",
    "ax[0].set_title('Segment 1\\n',fontsize= 18)\n",
    "ax[0].set(xlabel='quantity', ylabel='',xlim=(0, 13300))\n",
    "\n",
    "sns.barplot(x=\"NB PRODS\", y=\"FRUIT_PRODUCT\", data=frtdf2,ax=ax[1], color=clr7[1])\n",
    "ax[1].set_title('Segment 2\\n',fontsize= 18)\n",
    "ax[1].set(xlabel='quantity', ylabel='',xlim=(0, 13300))\n",
    "\n",
    "sns.barplot(x=\"NB PRODS\", y=\"FRUIT_PRODUCT\", data=frtdf3,ax=ax[2], color=clr7[2])\n",
    "ax[2].set_title('Segment 3\\n',fontsize= 18)\n",
    "ax[2].set(xlabel='quantity', ylabel='',xlim=(0, 13300))\n",
    "\n",
    "fig.suptitle(\" \\n Top 10 fruit orders by segment\", y=1.28,fontsize= 21)\n",
    "\n",
    "fig, ax = plt.subplots(1,3,figsize=(21,5))\n",
    "\n",
    "sns.barplot(x=\"NB PRODS\", y=\"FRUIT_PRODUCT\", data=frtdf4,ax=ax[0], color=clr7[3])\n",
    "ax[0].set_title('Segment 4\\n',fontsize= 18)\n",
    "ax[0].set(xlabel='quantity', ylabel='',xlim=(0, 13300))\n",
    "\n",
    "sns.barplot(x=\"NB PRODS\", y=\"FRUIT_PRODUCT\", data=frtdf5,ax=ax[1], color=clr7[4])\n",
    "ax[1].set_title('Segment 5\\n',fontsize= 18)\n",
    "ax[1].set(xlabel='quantity', ylabel='',xlim=(0, 13300))\n",
    "\n",
    "sns.barplot(x=\"NB PRODS\", y=\"FRUIT_PRODUCT\", data=frtdf6,ax=ax[2], color=clr7[6])\n",
    "ax[2].set_title('Segment 6\\n',fontsize= 18)\n",
    "ax[2].set(xlabel='quantity', ylabel='',xlim=(0, 13300))\n",
    "\n",
    "\n",
    "plt.show()"
   ]
  },
  {
   "cell_type": "code",
   "execution_count": 139,
   "id": "1aafe863",
   "metadata": {},
   "outputs": [
    {
     "data": {
      "text/html": [
       "<div>\n",
       "<style scoped>\n",
       "    .dataframe tbody tr th:only-of-type {\n",
       "        vertical-align: middle;\n",
       "    }\n",
       "\n",
       "    .dataframe tbody tr th {\n",
       "        vertical-align: top;\n",
       "    }\n",
       "\n",
       "    .dataframe thead th {\n",
       "        text-align: right;\n",
       "    }\n",
       "</style>\n",
       "<table border=\"1\" class=\"dataframe\">\n",
       "  <thead>\n",
       "    <tr style=\"text-align: right;\">\n",
       "      <th></th>\n",
       "      <th>RECEIVED_COMMUNICATION</th>\n",
       "      <th>FRUIT_PRODUCT</th>\n",
       "      <th>NB PRODS</th>\n",
       "    </tr>\n",
       "  </thead>\n",
       "  <tbody>\n",
       "    <tr>\n",
       "      <th>0</th>\n",
       "      <td>1.0</td>\n",
       "      <td>Kiwi</td>\n",
       "      <td>22054</td>\n",
       "    </tr>\n",
       "    <tr>\n",
       "      <th>1</th>\n",
       "      <td>1.0</td>\n",
       "      <td>Lemon</td>\n",
       "      <td>21074</td>\n",
       "    </tr>\n",
       "    <tr>\n",
       "      <th>2</th>\n",
       "      <td>1.0</td>\n",
       "      <td>Orange</td>\n",
       "      <td>20265</td>\n",
       "    </tr>\n",
       "    <tr>\n",
       "      <th>3</th>\n",
       "      <td>1.0</td>\n",
       "      <td>Cheery</td>\n",
       "      <td>19152</td>\n",
       "    </tr>\n",
       "    <tr>\n",
       "      <th>4</th>\n",
       "      <td>1.0</td>\n",
       "      <td>Pear</td>\n",
       "      <td>15735</td>\n",
       "    </tr>\n",
       "    <tr>\n",
       "      <th>5</th>\n",
       "      <td>1.0</td>\n",
       "      <td>Banana</td>\n",
       "      <td>11970</td>\n",
       "    </tr>\n",
       "    <tr>\n",
       "      <th>6</th>\n",
       "      <td>1.0</td>\n",
       "      <td>Nectarine</td>\n",
       "      <td>11314</td>\n",
       "    </tr>\n",
       "    <tr>\n",
       "      <th>7</th>\n",
       "      <td>1.0</td>\n",
       "      <td>Nuwe Fruit</td>\n",
       "      <td>11212</td>\n",
       "    </tr>\n",
       "    <tr>\n",
       "      <th>8</th>\n",
       "      <td>1.0</td>\n",
       "      <td>Coconut</td>\n",
       "      <td>8819</td>\n",
       "    </tr>\n",
       "    <tr>\n",
       "      <th>9</th>\n",
       "      <td>1.0</td>\n",
       "      <td>Apple</td>\n",
       "      <td>4792</td>\n",
       "    </tr>\n",
       "  </tbody>\n",
       "</table>\n",
       "</div>"
      ],
      "text/plain": [
       "   RECEIVED_COMMUNICATION FRUIT_PRODUCT  NB PRODS\n",
       "0                     1.0          Kiwi     22054\n",
       "1                     1.0         Lemon     21074\n",
       "2                     1.0        Orange     20265\n",
       "3                     1.0        Cheery     19152\n",
       "4                     1.0          Pear     15735\n",
       "5                     1.0        Banana     11970\n",
       "6                     1.0     Nectarine     11314\n",
       "7                     1.0    Nuwe Fruit     11212\n",
       "8                     1.0       Coconut      8819\n",
       "9                     1.0         Apple      4792"
      ]
     },
     "execution_count": 139,
     "metadata": {},
     "output_type": "execute_result"
    }
   ],
   "source": [
    "maindf[maindf['RECEIVED_COMMUNICATION']==1.0].groupby(['RECEIVED_COMMUNICATION','FRUIT_PRODUCT'])['NB PRODS'].sum().sort_values(ascending=False)[:10].reset_index()"
   ]
  },
  {
   "cell_type": "code",
   "execution_count": 140,
   "id": "eedc16ba",
   "metadata": {},
   "outputs": [
    {
     "data": {
      "text/html": [
       "<div>\n",
       "<style scoped>\n",
       "    .dataframe tbody tr th:only-of-type {\n",
       "        vertical-align: middle;\n",
       "    }\n",
       "\n",
       "    .dataframe tbody tr th {\n",
       "        vertical-align: top;\n",
       "    }\n",
       "\n",
       "    .dataframe thead th {\n",
       "        text-align: right;\n",
       "    }\n",
       "</style>\n",
       "<table border=\"1\" class=\"dataframe\">\n",
       "  <thead>\n",
       "    <tr style=\"text-align: right;\">\n",
       "      <th></th>\n",
       "      <th>RECEIVED_COMMUNICATION</th>\n",
       "      <th>FRUIT_PRODUCT</th>\n",
       "      <th>NB PRODS</th>\n",
       "    </tr>\n",
       "  </thead>\n",
       "  <tbody>\n",
       "    <tr>\n",
       "      <th>0</th>\n",
       "      <td>0.0</td>\n",
       "      <td>Kiwi</td>\n",
       "      <td>13949</td>\n",
       "    </tr>\n",
       "    <tr>\n",
       "      <th>1</th>\n",
       "      <td>0.0</td>\n",
       "      <td>Lemon</td>\n",
       "      <td>12984</td>\n",
       "    </tr>\n",
       "    <tr>\n",
       "      <th>2</th>\n",
       "      <td>0.0</td>\n",
       "      <td>Orange</td>\n",
       "      <td>12858</td>\n",
       "    </tr>\n",
       "    <tr>\n",
       "      <th>3</th>\n",
       "      <td>0.0</td>\n",
       "      <td>Nuwe Fruit</td>\n",
       "      <td>8627</td>\n",
       "    </tr>\n",
       "    <tr>\n",
       "      <th>4</th>\n",
       "      <td>0.0</td>\n",
       "      <td>Cheery</td>\n",
       "      <td>7616</td>\n",
       "    </tr>\n",
       "    <tr>\n",
       "      <th>5</th>\n",
       "      <td>0.0</td>\n",
       "      <td>Nectarine</td>\n",
       "      <td>7602</td>\n",
       "    </tr>\n",
       "    <tr>\n",
       "      <th>6</th>\n",
       "      <td>0.0</td>\n",
       "      <td>Pear</td>\n",
       "      <td>7026</td>\n",
       "    </tr>\n",
       "    <tr>\n",
       "      <th>7</th>\n",
       "      <td>0.0</td>\n",
       "      <td>Banana</td>\n",
       "      <td>5692</td>\n",
       "    </tr>\n",
       "    <tr>\n",
       "      <th>8</th>\n",
       "      <td>0.0</td>\n",
       "      <td>Apricot</td>\n",
       "      <td>5477</td>\n",
       "    </tr>\n",
       "    <tr>\n",
       "      <th>9</th>\n",
       "      <td>0.0</td>\n",
       "      <td>Papaya</td>\n",
       "      <td>4082</td>\n",
       "    </tr>\n",
       "  </tbody>\n",
       "</table>\n",
       "</div>"
      ],
      "text/plain": [
       "   RECEIVED_COMMUNICATION FRUIT_PRODUCT  NB PRODS\n",
       "0                     0.0          Kiwi     13949\n",
       "1                     0.0         Lemon     12984\n",
       "2                     0.0        Orange     12858\n",
       "3                     0.0    Nuwe Fruit      8627\n",
       "4                     0.0        Cheery      7616\n",
       "5                     0.0     Nectarine      7602\n",
       "6                     0.0          Pear      7026\n",
       "7                     0.0        Banana      5692\n",
       "8                     0.0       Apricot      5477\n",
       "9                     0.0        Papaya      4082"
      ]
     },
     "execution_count": 140,
     "metadata": {},
     "output_type": "execute_result"
    }
   ],
   "source": [
    "maindf[maindf['RECEIVED_COMMUNICATION']!=1.0].groupby(['RECEIVED_COMMUNICATION','FRUIT_PRODUCT'])['NB PRODS'].sum().sort_values(ascending=False)[:10].reset_index()"
   ]
  },
  {
   "cell_type": "markdown",
   "id": "85b6f4d4",
   "metadata": {},
   "source": [
    "There is no significant difference in fruit quantity order either by segment or by communications received"
   ]
  },
  {
   "cell_type": "code",
   "execution_count": null,
   "id": "1cebcb52",
   "metadata": {},
   "outputs": [],
   "source": []
  }
 ],
 "metadata": {
  "kernelspec": {
   "display_name": "Python 3 (ipykernel)",
   "language": "python",
   "name": "python3"
  },
  "language_info": {
   "codemirror_mode": {
    "name": "ipython",
    "version": 3
   },
   "file_extension": ".py",
   "mimetype": "text/x-python",
   "name": "python",
   "nbconvert_exporter": "python",
   "pygments_lexer": "ipython3",
   "version": "3.8.2"
  }
 },
 "nbformat": 4,
 "nbformat_minor": 5
}
